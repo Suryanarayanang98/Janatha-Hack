{
 "cells": [
  {
   "cell_type": "code",
   "execution_count": 2,
   "metadata": {
    "colab": {
     "base_uri": "https://localhost:8080/",
     "height": 124
    },
    "colab_type": "code",
    "id": "oXsC2HEUEoxJ",
    "outputId": "18c1581f-8e96-4860-bfbb-a0fefeae66a7"
   },
   "outputs": [
    {
     "name": "stdout",
     "output_type": "stream",
     "text": [
      "Collecting pyspellchecker\n",
      "  Downloading pyspellchecker-0.5.4-py2.py3-none-any.whl (1.9 MB)\n",
      "\u001b[K     |████████████████████████████████| 1.9 MB 505 kB/s eta 0:00:01\n",
      "\u001b[?25hInstalling collected packages: pyspellchecker\n",
      "Successfully installed pyspellchecker-0.5.4\n"
     ]
    }
   ],
   "source": [
    "#install required versions of libraries \n",
    "!pip install --quiet tensorflow-hub\n",
    "!pip install --quiet seaborn\n",
    "!pip install pyspellchecker"
   ]
  },
  {
   "cell_type": "code",
   "execution_count": null,
   "metadata": {
    "colab": {},
    "colab_type": "code",
    "id": "-ymjTd6CIkhv"
   },
   "outputs": [],
   "source": [
    "#importing necessary libraries\n",
    "import pandas as pd\n",
    "import matplotlib.pyplot as plt\n",
    "import seaborn as sns\n",
    "import numpy as np\n",
    "\n",
    "from collections import defaultdict\n",
    "import nltk\n",
    "from nltk.corpus import stopwords\n",
    "\n",
    "from nltk.util import ngrams\n",
    "from collections import Counter\n",
    "\n",
    "from sklearn.feature_extraction.text import CountVectorizer\n",
    "\n",
    "import re\n",
    "from spellchecker import SpellChecker\n",
    "\n",
    "import tensorflow as tf\n",
    "import tensorflow_hub as hub\n",
    "\n",
    "from sklearn.model_selection import train_test_split\n",
    "import itertools\n",
    "import datetime\n",
    "from tensorflow.keras.preprocessing.sequence import pad_sequences\n",
    "from tensorflow.keras.models import Model\n",
    "from tensorflow.keras.layers import Input, Embedding, LSTM, Lambda, SpatialDropout1D, Dense, GRU\n",
    "import tensorflow.keras.backend as K\n",
    "from tensorflow.keras.optimizers import Adam,Adadelta\n",
    "from tensorflow.keras.callbacks import ModelCheckpoint\n",
    "from tensorflow.keras import layers\n",
    "\n",
    "\n",
    "from tqdm import tqdm\n",
    "from tensorflow.keras.models import Sequential\n",
    "from tensorflow.keras.initializers import Constant\n",
    "from tensorflow.keras.optimizers import Adadelta"
   ]
  },
  {
   "cell_type": "code",
   "execution_count": 33,
   "metadata": {
    "colab": {},
    "colab_type": "code",
    "id": "u2nm6aSqIvQA"
   },
   "outputs": [],
   "source": [
    "# Importing the dataset\n",
    "train_dataset = pd.read_csv('train.csv')\n",
    "test_dataset = pd.read_csv('test.csv')"
   ]
  },
  {
   "cell_type": "code",
   "execution_count": 34,
   "metadata": {
    "colab": {
     "base_uri": "https://localhost:8080/",
     "height": 206
    },
    "colab_type": "code",
    "id": "BTxPtmDsOiOo",
    "outputId": "55717413-161f-4287-fabe-36228f60da69"
   },
   "outputs": [
    {
     "data": {
      "text/html": [
       "<div>\n",
       "<style scoped>\n",
       "    .dataframe tbody tr th:only-of-type {\n",
       "        vertical-align: middle;\n",
       "    }\n",
       "\n",
       "    .dataframe tbody tr th {\n",
       "        vertical-align: top;\n",
       "    }\n",
       "\n",
       "    .dataframe thead th {\n",
       "        text-align: right;\n",
       "    }\n",
       "</style>\n",
       "<table border=\"1\" class=\"dataframe\">\n",
       "  <thead>\n",
       "    <tr style=\"text-align: right;\">\n",
       "      <th></th>\n",
       "      <th>review_id</th>\n",
       "      <th>title</th>\n",
       "      <th>year</th>\n",
       "      <th>user_review</th>\n",
       "      <th>user_suggestion</th>\n",
       "    </tr>\n",
       "  </thead>\n",
       "  <tbody>\n",
       "    <tr>\n",
       "      <th>0</th>\n",
       "      <td>1</td>\n",
       "      <td>Spooky's Jump Scare Mansion</td>\n",
       "      <td>2016.0</td>\n",
       "      <td>I'm scared and hearing creepy voices.  So I'll...</td>\n",
       "      <td>1</td>\n",
       "    </tr>\n",
       "    <tr>\n",
       "      <th>1</th>\n",
       "      <td>2</td>\n",
       "      <td>Spooky's Jump Scare Mansion</td>\n",
       "      <td>2016.0</td>\n",
       "      <td>Best game, more better than Sam Pepper's YouTu...</td>\n",
       "      <td>1</td>\n",
       "    </tr>\n",
       "    <tr>\n",
       "      <th>2</th>\n",
       "      <td>3</td>\n",
       "      <td>Spooky's Jump Scare Mansion</td>\n",
       "      <td>2016.0</td>\n",
       "      <td>A littly iffy on the controls, but once you kn...</td>\n",
       "      <td>1</td>\n",
       "    </tr>\n",
       "    <tr>\n",
       "      <th>3</th>\n",
       "      <td>4</td>\n",
       "      <td>Spooky's Jump Scare Mansion</td>\n",
       "      <td>2015.0</td>\n",
       "      <td>Great game, fun and colorful and all that.A si...</td>\n",
       "      <td>1</td>\n",
       "    </tr>\n",
       "    <tr>\n",
       "      <th>4</th>\n",
       "      <td>5</td>\n",
       "      <td>Spooky's Jump Scare Mansion</td>\n",
       "      <td>2015.0</td>\n",
       "      <td>Not many games have the cute tag right next to...</td>\n",
       "      <td>1</td>\n",
       "    </tr>\n",
       "  </tbody>\n",
       "</table>\n",
       "</div>"
      ],
      "text/plain": [
       "   review_id                        title    year  \\\n",
       "0          1  Spooky's Jump Scare Mansion  2016.0   \n",
       "1          2  Spooky's Jump Scare Mansion  2016.0   \n",
       "2          3  Spooky's Jump Scare Mansion  2016.0   \n",
       "3          4  Spooky's Jump Scare Mansion  2015.0   \n",
       "4          5  Spooky's Jump Scare Mansion  2015.0   \n",
       "\n",
       "                                         user_review  user_suggestion  \n",
       "0  I'm scared and hearing creepy voices.  So I'll...                1  \n",
       "1  Best game, more better than Sam Pepper's YouTu...                1  \n",
       "2  A littly iffy on the controls, but once you kn...                1  \n",
       "3  Great game, fun and colorful and all that.A si...                1  \n",
       "4  Not many games have the cute tag right next to...                1  "
      ]
     },
     "execution_count": 34,
     "metadata": {},
     "output_type": "execute_result"
    }
   ],
   "source": [
    "train_dataset.head()"
   ]
  },
  {
   "cell_type": "code",
   "execution_count": 35,
   "metadata": {
    "colab": {
     "base_uri": "https://localhost:8080/",
     "height": 282
    },
    "colab_type": "code",
    "id": "RV296kfnP3BX",
    "outputId": "2fe3421a-72b6-4d47-9dc6-a177c7a223a2"
   },
   "outputs": [
    {
     "data": {
      "image/png": "[encoded data removed]",
      "text/plain": [
       "<Figure size 432x288 with 1 Axes>"
      ]
     },
     "metadata": {
      "needs_background": "light"
     },
     "output_type": "display_data"
    }
   ],
   "source": [
    "#class distribution\n",
    "x=train_dataset.user_suggestion.value_counts()\n",
    "sns.barplot(x.index,x)\n",
    "plt.title('Class Distribution')\n",
    "plt.show()"
   ]
  },
  {
   "cell_type": "code",
   "execution_count": 36,
   "metadata": {
    "colab": {
     "base_uri": "https://localhost:8080/",
     "height": 356
    },
    "colab_type": "code",
    "id": "7wZMQssFRAJC",
    "outputId": "eceda8bc-d1cd-4043-ba0c-c0b5a4cbd762"
   },
   "outputs": [
    {
     "data": {
      "image/png": "[encoded data removed]",
      "text/plain": [
       "<Figure size 720x360 with 2 Axes>"
      ]
     },
     "metadata": {
      "needs_background": "light"
     },
     "output_type": "display_data"
    }
   ],
   "source": [
    "#word analysis\n",
    "fig,(ax1,ax2)=plt.subplots(1,2,figsize=(10,5))\n",
    "tweet_len=train_dataset[train_dataset['user_suggestion']==1]['user_review'].str.split().map(lambda x: len(x))\n",
    "ax1.hist(tweet_len,color='red')\n",
    "ax1.set_title('positive reviews')\n",
    "tweet_len=train_dataset[train_dataset['user_suggestion']==0]['user_review'].str.split().map(lambda x: len(x))\n",
    "ax2.hist(tweet_len,color='green')\n",
    "ax2.set_title('negative reviews')\n",
    "fig.suptitle('Words')\n",
    "plt.show()"
   ]
  },
  {
   "cell_type": "code",
   "execution_count": 37,
   "metadata": {
    "colab": {
     "base_uri": "https://localhost:8080/",
     "height": 388
    },
    "colab_type": "code",
    "id": "ABOU6apySBuK",
    "outputId": "8a8ef7dc-1b1a-4ae4-92f0-e732baf77b76"
   },
   "outputs": [
    {
     "data": {
      "text/plain": [
       "Text(0.5, 0.98, 'Average word length in each review')"
      ]
     },
     "execution_count": 37,
     "metadata": {},
     "output_type": "execute_result"
    },
    {
     "data": {
      "image/png": "[encoded data removed]",
      "text/plain": [
       "<Figure size 720x360 with 2 Axes>"
      ]
     },
     "metadata": {
      "needs_background": "light"
     },
     "output_type": "display_data"
    }
   ],
   "source": [
    "#Average word length\n",
    "fig,(ax1,ax2)=plt.subplots(1,2,figsize=(10,5))\n",
    "word=train_dataset[train_dataset['user_suggestion']==1]['user_review'].str.split().apply(lambda x : [len(i) for i in x])\n",
    "sns.distplot(word.map(lambda x: np.mean(x)),ax=ax1,color='red')\n",
    "ax1.set_title('positive review')\n",
    "word=train_dataset[train_dataset['user_suggestion']==0]['user_review'].str.split().apply(lambda x : [len(i) for i in x])\n",
    "sns.distplot(word.map(lambda x: np.mean(x)),ax=ax2,color='green')\n",
    "ax2.set_title('negative review')\n",
    "fig.suptitle('Average word length in each review')"
   ]
  },
  {
   "cell_type": "code",
   "execution_count": 38,
   "metadata": {
    "colab": {},
    "colab_type": "code",
    "id": "yYoEulMeSfBL"
   },
   "outputs": [],
   "source": [
    "#create corpus\n",
    "def create_corpus(target):\n",
    "    corpus=[]\n",
    "    \n",
    "    for x in train_dataset[train_dataset['user_suggestion']==target]['user_review'].str.split():\n",
    "        for i in x:\n",
    "            corpus.append(i)\n",
    "    return corpus"
   ]
  },
  {
   "cell_type": "code",
   "execution_count": 39,
   "metadata": {
    "colab": {
     "base_uri": "https://localhost:8080/",
     "height": 69
    },
    "colab_type": "code",
    "id": "v9RUD4p-Tu4E",
    "outputId": "071bea1c-27a8-45c2-c8be-b3d75c783131"
   },
   "outputs": [
    {
     "name": "stderr",
     "output_type": "stream",
     "text": [
      "[nltk_data] Downloading package stopwords to\n",
      "[nltk_data]     /home/suryanarayanan/nltk_data...\n",
      "[nltk_data]   Package stopwords is already up-to-date!\n"
     ]
    },
    {
     "data": {
      "text/plain": [
       "True"
      ]
     },
     "execution_count": 39,
     "metadata": {},
     "output_type": "execute_result"
    }
   ],
   "source": [
    "nltk.download('stopwords')"
   ]
  },
  {
   "cell_type": "code",
   "execution_count": 40,
   "metadata": {
    "colab": {
     "base_uri": "https://localhost:8080/",
     "height": 282
    },
    "colab_type": "code",
    "id": "ytqekfQUTzr-",
    "outputId": "17ac51a1-fafa-435a-a001-1b7dc031ded6"
   },
   "outputs": [
    {
     "data": {
      "text/plain": [
       "<BarContainer object of 10 artists>"
      ]
     },
     "execution_count": 40,
     "metadata": {},
     "output_type": "execute_result"
    },
    {
     "data": {
      "image/png": "[encoded data removed]",
      "text/plain": [
       "<Figure size 432x288 with 1 Axes>"
      ]
     },
     "metadata": {
      "needs_background": "light"
     },
     "output_type": "display_data"
    }
   ],
   "source": [
    "#analyze target=0\n",
    "corpus=create_corpus(0)\n",
    "stop=set(stopwords.words('english'))\n",
    "dic=defaultdict(int)\n",
    "\n",
    "for word in corpus:\n",
    "    if word in stop:\n",
    "        dic[word]+=1\n",
    "        \n",
    "top=sorted(dic.items(), key=lambda x:x[1],reverse=True)[:10] \n",
    "\n",
    "x,y=zip(*top)\n",
    "plt.bar(x,y)"
   ]
  },
  {
   "cell_type": "code",
   "execution_count": 41,
   "metadata": {
    "colab": {
     "base_uri": "https://localhost:8080/",
     "height": 282
    },
    "colab_type": "code",
    "id": "AkRTWiAFUQmf",
    "outputId": "d8a9df8f-a7d6-48d4-ede0-1deda747755f"
   },
   "outputs": [
    {
     "data": {
      "text/plain": [
       "<BarContainer object of 10 artists>"
      ]
     },
     "execution_count": 41,
     "metadata": {},
     "output_type": "execute_result"
    },
    {
     "data": {
      "image/png": "[encoded data removed]",
      "text/plain": [
       "<Figure size 432x288 with 1 Axes>"
      ]
     },
     "metadata": {
      "needs_background": "light"
     },
     "output_type": "display_data"
    }
   ],
   "source": [
    "#analyze target=1\n",
    "corpus=create_corpus(1)\n",
    "\n",
    "dic=defaultdict(int)\n",
    "for word in corpus:\n",
    "    if word in stop:\n",
    "        dic[word]+=1\n",
    "\n",
    "top=sorted(dic.items(), key=lambda x:x[1],reverse=True)[:10] \n",
    "    \n",
    "x,y=zip(*top)\n",
    "plt.bar(x,y)"
   ]
  },
  {
   "cell_type": "code",
   "execution_count": 42,
   "metadata": {
    "colab": {
     "base_uri": "https://localhost:8080/",
     "height": 337
    },
    "colab_type": "code",
    "id": "zOSbX7oEUWRT",
    "outputId": "51322cee-0dc0-4439-bd7d-ffd0ad99881e"
   },
   "outputs": [
    {
     "data": {
      "text/plain": [
       "<BarContainer object of 31 artists>"
      ]
     },
     "execution_count": 42,
     "metadata": {},
     "output_type": "execute_result"
    },
    {
     "data": {
      "image/png": "[encoded data removed]",
      "text/plain": [
       "<Figure size 720x360 with 1 Axes>"
      ]
     },
     "metadata": {
      "needs_background": "light"
     },
     "output_type": "display_data"
    }
   ],
   "source": [
    "#analyze punctuations in target=1\n",
    "plt.figure(figsize=(10,5))\n",
    "corpus=create_corpus(1)\n",
    "\n",
    "dic=defaultdict(int)\n",
    "import string\n",
    "special = string.punctuation\n",
    "for i in (corpus):\n",
    "    if i in special:\n",
    "        dic[i]+=1\n",
    "        \n",
    "x,y=zip(*dic.items())\n",
    "plt.bar(x,y)"
   ]
  },
  {
   "cell_type": "code",
   "execution_count": 43,
   "metadata": {
    "colab": {
     "base_uri": "https://localhost:8080/",
     "height": 337
    },
    "colab_type": "code",
    "id": "-pf_FDL8Uczs",
    "outputId": "a090dbaf-ed49-4581-b1f5-d2e863fcebd4"
   },
   "outputs": [
    {
     "data": {
      "text/plain": [
       "<BarContainer object of 31 artists>"
      ]
     },
     "execution_count": 43,
     "metadata": {},
     "output_type": "execute_result"
    },
    {
     "data": {
      "image/png": "[encoded data removed]",
      "text/plain": [
       "<Figure size 720x360 with 1 Axes>"
      ]
     },
     "metadata": {
      "needs_background": "light"
     },
     "output_type": "display_data"
    }
   ],
   "source": [
    "#analyze punctuations in target=0\n",
    "plt.figure(figsize=(10,5))\n",
    "corpus=create_corpus(0)\n",
    "\n",
    "dic=defaultdict(int)\n",
    "import string\n",
    "special = string.punctuation\n",
    "for i in (corpus):\n",
    "    if i in special:\n",
    "        dic[i]+=1\n",
    "        \n",
    "x,y=zip(*dic.items())\n",
    "plt.bar(x,y,color='green')"
   ]
  },
  {
   "cell_type": "code",
   "execution_count": 44,
   "metadata": {
    "colab": {
     "base_uri": "https://localhost:8080/",
     "height": 282
    },
    "colab_type": "code",
    "id": "_cTf8e-QUgvT",
    "outputId": "2301870e-2e52-4d06-9770-e8b006258caf"
   },
   "outputs": [
    {
     "data": {
      "text/plain": [
       "<matplotlib.axes._subplots.AxesSubplot at 0x7f0078b2fe90>"
      ]
     },
     "execution_count": 44,
     "metadata": {},
     "output_type": "execute_result"
    },
    {
     "data": {
      "image/png": "[encoded data removed]",
      "text/plain": [
       "<Figure size 432x288 with 1 Axes>"
      ]
     },
     "metadata": {
      "needs_background": "light"
     },
     "output_type": "display_data"
    }
   ],
   "source": [
    "#Common Words other than stopwords\n",
    "counter=Counter(corpus)\n",
    "most=counter.most_common()\n",
    "x=[]\n",
    "y=[]\n",
    "for word,count in most[:40]:\n",
    "    if (word not in stop) :\n",
    "        x.append(word)\n",
    "        y.append(count)\n",
    "        \n",
    "sns.barplot(x=y,y=x)"
   ]
  },
  {
   "cell_type": "code",
   "execution_count": 45,
   "metadata": {
    "colab": {
     "base_uri": "https://localhost:8080/",
     "height": 337
    },
    "colab_type": "code",
    "id": "o0ohTNFXUlVu",
    "outputId": "5c28b900-3166-488b-f819-86f0dbc899bf"
   },
   "outputs": [
    {
     "data": {
      "text/plain": [
       "<matplotlib.axes._subplots.AxesSubplot at 0x7f0079a0cf50>"
      ]
     },
     "execution_count": 45,
     "metadata": {},
     "output_type": "execute_result"
    },
    {
     "data": {
      "image/png": "[encoded data removed]",
      "text/plain": [
       "<Figure size 720x360 with 1 Axes>"
      ]
     },
     "metadata": {
      "needs_background": "light"
     },
     "output_type": "display_data"
    }
   ],
   "source": [
    "#ngram analysis\n",
    "def get_top_tweet_bigrams(corpus, n=None):\n",
    "    vec = CountVectorizer(ngram_range=(2, 2)).fit(corpus)\n",
    "    bag_of_words = vec.transform(corpus)\n",
    "    sum_words = bag_of_words.sum(axis=0) \n",
    "    words_freq = [(word, sum_words[0, idx]) for word, idx in vec.vocabulary_.items()]\n",
    "    words_freq =sorted(words_freq, key = lambda x: x[1], reverse=True)\n",
    "    return words_freq[:n]\n",
    "\n",
    "plt.figure(figsize=(10,5))\n",
    "top_tweet_bigrams=get_top_tweet_bigrams(train_dataset['user_review'])[:10]\n",
    "x,y=map(list,zip(*top_tweet_bigrams))\n",
    "sns.barplot(x=y,y=x)"
   ]
  },
  {
   "cell_type": "code",
   "execution_count": 46,
   "metadata": {
    "colab": {
     "base_uri": "https://localhost:8080/",
     "height": 139
    },
    "colab_type": "code",
    "id": "5XY5HDfPVDTO",
    "outputId": "a195ebba-6d86-4873-9e6c-9b3c468145bd"
   },
   "outputs": [
    {
     "name": "stdout",
     "output_type": "stream",
     "text": [
      "\n",
      "Real or Fake\n",
      "Kaggle \n",
      "getting started\n",
      "\n",
      "I am a king\n"
     ]
    }
   ],
   "source": [
    "#Data Cleaning\n",
    "#df=pd.concat([train_dataset,test_dataset])\n",
    "#df.shape\n",
    "\n",
    "example=\"New competition launched :https://www.kaggle.com/c/nlp-getting-started\"\n",
    "\n",
    "def remove_URL(text):\n",
    "    url = re.compile(r'https?://\\S+|www\\.\\S+')\n",
    "    return url.sub(r'',text)\n",
    "\n",
    "remove_URL(example)\n",
    "\n",
    "train_dataset['user_review']=train_dataset['user_review'].apply(lambda x : remove_URL(x))\n",
    "test_dataset['user_review']=test_dataset['user_review'].apply(lambda x : remove_URL(x))\n",
    "\n",
    "example = \"\"\"<div>\n",
    "<h1>Real or Fake</h1>\n",
    "<p>Kaggle </p>\n",
    "<a href=\"https://www.kaggle.com/c/nlp-getting-started\">getting started</a>\n",
    "</div>\"\"\"\n",
    "\n",
    "def remove_html(text):\n",
    "    html=re.compile(r'<.*?>')\n",
    "    return html.sub(r'',text)\n",
    "\n",
    "print(remove_html(example))\n",
    "\n",
    "train_dataset['user_review']=train_dataset['user_review'].apply(lambda x : remove_html(x))\n",
    "test_dataset['user_review']=test_dataset['user_review'].apply(lambda x : remove_html(x))\n",
    "\n",
    "def remove_emoji(text):\n",
    "    emoji_pattern = re.compile(\"[\"\n",
    "                           u\"\\U0001F600-\\U0001F64F\"  # emoticons\n",
    "                           u\"\\U0001F300-\\U0001F5FF\"  # symbols & pictographs\n",
    "                           u\"\\U0001F680-\\U0001F6FF\"  # transport & map symbols\n",
    "                           u\"\\U0001F1E0-\\U0001F1FF\"  # flags (iOS)\n",
    "                           u\"\\U00002702-\\U000027B0\"\n",
    "                           u\"\\U000024C2-\\U0001F251\"\n",
    "                           \"]+\", flags=re.UNICODE)\n",
    "    return emoji_pattern.sub(r'', text)\n",
    "\n",
    "remove_emoji(\"Omg another Earthquake 😔😔\")\n",
    "\n",
    "train_dataset['user_review']=train_dataset['user_review'].apply(lambda x : remove_emoji(x))\n",
    "test_dataset['user_review']=test_dataset['user_review'].apply(lambda x : remove_emoji(x))\n",
    "\n",
    "\n",
    "def remove_punct(text):    \n",
    "    punctuations = '¯™¥-♥#$%&:;\\()+-<=>@[\\\\]^_`{|}~/¯( ͡° ͜ʖ ͡°) ͜ʖ° ͜ʖ ͡°ʖ ͡☉ ͡☉ ͡ ͡ ͡  ͡ ▌░╔╗║╔═╗'\n",
    "    for p in punctuations:\n",
    "        text = text.replace(p, ' ')\n",
    "    text = re.sub(' +', ' ', text)\n",
    "    return text\n",
    "\n",
    "example=\"I am a #king\"\n",
    "print(remove_punct(example))\n",
    "\n",
    "train_dataset['user_review']=train_dataset['user_review'].apply(lambda x : remove_punct(x))\n",
    "test_dataset['user_review']=test_dataset['user_review'].apply(lambda x : remove_punct(x))\n",
    "\n",
    "spell = SpellChecker()\n",
    "def correct_spellings(text):\n",
    "    corrected_text = []\n",
    "    misspelled_words = spell.unknown(text.split())\n",
    "    for word in text.split():\n",
    "        if word in misspelled_words:\n",
    "            corrected_text.append(spell.correction(word))\n",
    "        else:\n",
    "            corrected_text.append(word)\n",
    "    return \" \".join(corrected_text)\n",
    "        \n",
    "text = \"corect me plese\"\n",
    "correct_spellings(text)\n",
    "\n",
    "#train_dataset['text']=train_dataset['text'].apply(lambda x : correct_spellings(x))\n",
    "#test_dataset['text']=test_dataset['text'].apply(lambda x : correct_spellings(x))\n",
    "\n",
    "def clean(text):\n",
    "    \n",
    "    text = re.sub(\" he's \", \" he is \", text)\n",
    "    text = re.sub(\" there's \", \" there is \", text)\n",
    "    text = re.sub(\" we're \", \" we are \", text)\n",
    "    text = re.sub(\"you'll\", \" you will \", text)\n",
    "\n",
    "    text = re.sub(\" that's \", \" that is \", text)\n",
    "    text = re.sub(\" won't \", \" will not \", text)\n",
    "    text = re.sub(\" they're \", \" they are \", text)\n",
    "    text = re.sub(\" wan't \", \" cannot \", text)\n",
    "    text = re.sub(\" wasn't \", \" was not \", text)\n",
    "    text = re.sub(\" aren't \", \" are not \", text)\n",
    "    text = re.sub(\" isn't \", \" is not \", text)\n",
    "    text = re.sub(\"haven't\", \" have not \", text)\n",
    "    text = re.sub(\" hasn't \", \" has not \", text)\n",
    "    text = re.sub(\" there's \", \" there is \", text)\n",
    "    text = re.sub(\" he's \", \" he is \", text)\n",
    "    text = re.sub(\" it's \", \" it is \", text)\n",
    "    text = re.sub(\" wou're \", \" you are \", text)\n",
    "    text = re.sub(\" isnt \", \" is not \", text)\n",
    "    text = re.sub(\" shouldn't \", \" should not \", text)\n",
    "    text = re.sub(\" wouldn't \", \" would not \", text)\n",
    "    text = re.sub(\"i'm\", \" i am \", text)\n",
    "    text = re.sub(\"i'm \", \" i am \", text)\n",
    "    text = re.sub(\" im \", \" i am \", text)\n",
    "    text = re.sub(\" youre \", \" you are \", text)\n",
    "    text = re.sub(\" ive \", \" i have \", text)\n",
    "    text = re.sub(\" cant \", \" can not \", text)\n",
    "    text = re.sub(\" ive \", \" i have \", text)\n",
    "    text = re.sub(\" dont \", \" do not \", text)\n",
    "    text = re.sub(\"doesnt\", \" does not \", text)\n",
    "    text = re.sub(\" thats \", \" that is \", text)\n",
    "    text = re.sub(\" doesnt \", \" does not \", text)\n",
    "    text = re.sub(\" don ‘ t \", \" do not \", text) \n",
    "    text = re.sub(\" i'll\", \" i will \", text)\n",
    "\n",
    "    text = re.sub(\" isn't \", \" is not \", text)\n",
    "    text = re.sub(\" here's\", \" here is \", text)\n",
    "    text = re.sub(\" you've\", \" you have \", text)\n",
    "    text = re.sub(\" we're\", \" we are \", text)\n",
    "    text = re.sub(\" what's\", \" what is \", text)\n",
    "    text = re.sub(\" couldn't\", \"could not\", text)\n",
    "    text = re.sub(\" we've\", \" we have \", text)\n",
    "    text = re.sub(\" who's\", \" who is \", text)\n",
    "    text = re.sub(\" y'all\", \" you all \", text)\n",
    "    text = re.sub(\" would've\", \" would have \", text)\n",
    "    text = re.sub(\" it'll\", \" it will \", text)\n",
    "    text = re.sub(\" we'll\", \" we will \", text)\n",
    "    text = re.sub(\" we've\", \" we have \", text)\n",
    "    text = re.sub(\" he'll\", \" he will \", text)\n",
    "    text = re.sub(\" y'all\", \" you all \", text)\n",
    "    text = re.sub(\" weren't\", \" were not \", text)\n",
    "    text = re.sub(\" didn't\", \" did not \", text)\n",
    "    text = re.sub(\" they'll\", \" they will \", text)\n",
    "    text = re.sub(\" they'd\", \" they would \", text)\n",
    "    text = re.sub(\" they've\", \" they have \", text)\n",
    "    text = re.sub(\" i'd\", \" i would \", text)\n",
    "    text = re.sub(\" should've\", \" should have \", text)\n",
    "    text = re.sub(\" where's\", \" where is \", text)\n",
    "    text = re.sub(\" we'd\", \" we would \", text)\n",
    "    text = re.sub(\" weren't\", \" were not \", text)\n",
    "    text = re.sub(\" they're\", \" they are \", text)\n",
    "    text = re.sub(\" let's\", \" let us \", text)\n",
    "    text = re.sub(\" it's\", \" it is \", text)\n",
    "    text = re.sub(\" can't\", \" cannot \", text)\n",
    "    text = re.sub(\" don't\", \" do not \", text)\n",
    "    text = re.sub(\" you're\", \" you are \", text)\n",
    "    text = re.sub(\" i've\", \" i have \", text)\n",
    "    text = re.sub(\" that's\", \" that is \", text)\n",
    "    text = re.sub(\" doesn't\", \" does not \", text)\n",
    "    text = re.sub(\" i'd\", \" i would \", text)\n",
    "    text = re.sub(\" didn't\", \" did not \", text)\n",
    "    text = re.sub(\" ain't\", \" am not \", text)\n",
    "    text = re.sub(\" you'll\", \" you will \", text)\n",
    "    text = re.sub(\" i've\", \" i have \", text)\n",
    "    text = re.sub(\" don't\", \" do not \", text)\n",
    "    text = re.sub(\"i'll\", \" i will \", text)\n",
    "    text = re.sub(\" i'd\", \" i would \", text)\n",
    "    text = re.sub(\" let's\", \" let us \", text)\n",
    "    text = re.sub(\" you'd\", \" you would \", text)\n",
    "    text = re.sub(\" it's\", \" it is \", text)\n",
    "    text = re.sub(\" ain't\", \" am not \", text)\n",
    "    text = re.sub(\" could've\", \" could have \", text)\n",
    "    text = re.sub(\"youve\", \" you have \", text)  \n",
    "    text = re.sub(\"i'm\", \" i am \", text)   \n",
    "\n",
    "            \n",
    "#     Character entity references\n",
    "    text = re.sub(\"&gt;\", \">\", text)\n",
    "    text = re.sub(\"&lt;\", \"<\", text)\n",
    "    text = re.sub(\"&amp;\", \"&\", text)\n",
    "    \n",
    "    return text\n",
    "\n",
    "train_dataset['user_review']=train_dataset['user_review'].apply(lambda x : clean(x))\n",
    "test_dataset['user_review']=test_dataset['user_review'].apply(lambda x : clean(x))\n",
    "\n"
   ]
  },
  {
   "cell_type": "code",
   "execution_count": 48,
   "metadata": {
    "colab": {
     "base_uri": "https://localhost:8080/",
     "height": 206
    },
    "colab_type": "code",
    "id": "L9q_KxxcWgYq",
    "outputId": "f9c81a68-8ec3-4342-c18e-0ef39748fdd6"
   },
   "outputs": [
    {
     "data": {
      "text/html": [
       "<div>\n",
       "<style scoped>\n",
       "    .dataframe tbody tr th:only-of-type {\n",
       "        vertical-align: middle;\n",
       "    }\n",
       "\n",
       "    .dataframe tbody tr th {\n",
       "        vertical-align: top;\n",
       "    }\n",
       "\n",
       "    .dataframe thead th {\n",
       "        text-align: right;\n",
       "    }\n",
       "</style>\n",
       "<table border=\"1\" class=\"dataframe\">\n",
       "  <thead>\n",
       "    <tr style=\"text-align: right;\">\n",
       "      <th></th>\n",
       "      <th>review_id</th>\n",
       "      <th>title</th>\n",
       "      <th>year</th>\n",
       "      <th>user_review</th>\n",
       "    </tr>\n",
       "  </thead>\n",
       "  <tbody>\n",
       "    <tr>\n",
       "      <th>0</th>\n",
       "      <td>1603</td>\n",
       "      <td>Counter-Strike: Global Offensive</td>\n",
       "      <td>2015.0</td>\n",
       "      <td>Nice graphics, new maps, weapons and models. B...</td>\n",
       "    </tr>\n",
       "    <tr>\n",
       "      <th>1</th>\n",
       "      <td>1604</td>\n",
       "      <td>Counter-Strike: Global Offensive</td>\n",
       "      <td>2018.0</td>\n",
       "      <td>I would not recommend getting into this at its...</td>\n",
       "    </tr>\n",
       "    <tr>\n",
       "      <th>2</th>\n",
       "      <td>1605</td>\n",
       "      <td>Counter-Strike: Global Offensive</td>\n",
       "      <td>2018.0</td>\n",
       "      <td>Edit 11 12 18I have tried playing CS GO recent...</td>\n",
       "    </tr>\n",
       "    <tr>\n",
       "      <th>3</th>\n",
       "      <td>1606</td>\n",
       "      <td>Counter-Strike: Global Offensive</td>\n",
       "      <td>2015.0</td>\n",
       "      <td>The game is great. But the community is the wo...</td>\n",
       "    </tr>\n",
       "    <tr>\n",
       "      <th>4</th>\n",
       "      <td>1607</td>\n",
       "      <td>Counter-Strike: Global Offensive</td>\n",
       "      <td>2015.0</td>\n",
       "      <td>I thank TrulyRazor for buying this for me a lo...</td>\n",
       "    </tr>\n",
       "  </tbody>\n",
       "</table>\n",
       "</div>"
      ],
      "text/plain": [
       "   review_id                             title    year  \\\n",
       "0       1603  Counter-Strike: Global Offensive  2015.0   \n",
       "1       1604  Counter-Strike: Global Offensive  2018.0   \n",
       "2       1605  Counter-Strike: Global Offensive  2018.0   \n",
       "3       1606  Counter-Strike: Global Offensive  2015.0   \n",
       "4       1607  Counter-Strike: Global Offensive  2015.0   \n",
       "\n",
       "                                         user_review  \n",
       "0  Nice graphics, new maps, weapons and models. B...  \n",
       "1  I would not recommend getting into this at its...  \n",
       "2  Edit 11 12 18I have tried playing CS GO recent...  \n",
       "3  The game is great. But the community is the wo...  \n",
       "4  I thank TrulyRazor for buying this for me a lo...  "
      ]
     },
     "execution_count": 48,
     "metadata": {},
     "output_type": "execute_result"
    }
   ],
   "source": [
    "test_dataset.head()"
   ]
  },
  {
   "cell_type": "code",
   "execution_count": null,
   "metadata": {
    "colab": {},
    "colab_type": "code",
    "id": "YuwivwJRWstO"
   },
   "outputs": [],
   "source": [
    "#test google encoder in TF2\n",
    "hub_url = \"https://tfhub.dev/google/universal-sentence-encoder-large/5\"\n",
    "embed = hub.load(hub_url)"
   ]
  },
  {
   "cell_type": "code",
   "execution_count": null,
   "metadata": {
    "colab": {},
    "colab_type": "code",
    "id": "QfwJwA7zWlQU"
   },
   "outputs": [],
   "source": [
    "X = train_dataset.iloc[:, 3].values\n",
    "y = train_dataset.iloc[:, 4].values"
   ]
  },
  {
   "cell_type": "code",
   "execution_count": null,
   "metadata": {
    "colab": {},
    "colab_type": "code",
    "id": "tyqRUsWHXEue"
   },
   "outputs": [],
   "source": [
    "#splitting into test & train\n",
    "X_train, X_test, y_train, y_test = train_test_split(X, y, test_size = 0.2, random_state = 0)"
   ]
  },
  {
   "cell_type": "code",
   "execution_count": null,
   "metadata": {
    "colab": {},
    "colab_type": "code",
    "id": "sl24nnWwiz5-"
   },
   "outputs": [],
   "source": [
    "#X_test = test_dataset.iloc[:, 3].values"
   ]
  },
  {
   "cell_type": "code",
   "execution_count": null,
   "metadata": {
    "colab": {
     "base_uri": "https://localhost:8080/",
     "height": 34
    },
    "colab_type": "code",
    "id": "4ff86f0Vsvjc",
    "outputId": "4193b895-8b0b-4e7a-c77e-8b1265e97a38"
   },
   "outputs": [
    {
     "data": {
      "text/plain": [
       "3499"
      ]
     },
     "execution_count": 24,
     "metadata": {
      "tags": []
     },
     "output_type": "execute_result"
    }
   ],
   "source": [
    "len(X_test)"
   ]
  },
  {
   "cell_type": "code",
   "execution_count": null,
   "metadata": {
    "colab": {},
    "colab_type": "code",
    "id": "rqoRxtGWaANQ"
   },
   "outputs": [],
   "source": [
    "X_train_embed = []"
   ]
  },
  {
   "cell_type": "code",
   "execution_count": null,
   "metadata": {
    "colab": {},
    "colab_type": "code",
    "id": "N9Wzr1vnZA6w"
   },
   "outputs": [],
   "source": [
    "for i in range(0,10000):\n",
    "    temp = embed([X_train[i]])\n",
    "    X_train_embed.append(temp)\n",
    "    #temp = [temp]\n",
    "    #temp = np.asarray(temp)\n",
    "    #X_train_embed=np.append(X_train_embed,temp,axis=0)"
   ]
  },
  {
   "cell_type": "code",
   "execution_count": null,
   "metadata": {
    "colab": {
     "base_uri": "https://localhost:8080/",
     "height": 34
    },
    "colab_type": "code",
    "id": "eMwIvfENK8yI",
    "outputId": "cf418ded-d489-44c3-e96b-02abd3ccb98c"
   },
   "outputs": [
    {
     "data": {
      "text/plain": [
       "10000"
      ]
     },
     "execution_count": 98,
     "metadata": {
      "tags": []
     },
     "output_type": "execute_result"
    }
   ],
   "source": [
    "len(X_train_embed)"
   ]
  },
  {
   "cell_type": "code",
   "execution_count": null,
   "metadata": {
    "colab": {},
    "colab_type": "code",
    "id": "21R0T5-OcNVw"
   },
   "outputs": [],
   "source": [
    "X_test_embed = []"
   ]
  },
  {
   "cell_type": "code",
   "execution_count": null,
   "metadata": {
    "colab": {},
    "colab_type": "code",
    "id": "vOlw_3qMagl_"
   },
   "outputs": [],
   "source": [
    "for i in range(0,2000):\n",
    "    temp = embed([X_test[i]])\n",
    "    X_test_embed.append(temp)\n",
    "    #temp = [temp]\n",
    "    #temp = np.asarray(temp)\n",
    "    #X_test_embed=np.append(X_test_embed,temp,axis=0)"
   ]
  },
  {
   "cell_type": "code",
   "execution_count": null,
   "metadata": {
    "colab": {},
    "colab_type": "code",
    "id": "M6Ici-SshVIh"
   },
   "outputs": [],
   "source": [
    "temp1 = y_train[0:10000]\n",
    "temp2 = y_test[0:2000]"
   ]
  },
  {
   "cell_type": "code",
   "execution_count": null,
   "metadata": {
    "colab": {},
    "colab_type": "code",
    "id": "YTKmSXebh416"
   },
   "outputs": [],
   "source": [
    "temp1 = np.asarray(temp1)\n",
    "temp2 = np.asarray(temp2)"
   ]
  },
  {
   "cell_type": "code",
   "execution_count": null,
   "metadata": {
    "colab": {},
    "colab_type": "code",
    "id": "jBjF_JWBiKJ9"
   },
   "outputs": [],
   "source": [
    "X_train_embed = np.asarray(X_train_embed)\n",
    "X_test_embed = np.asarray(X_test_embed)"
   ]
  },
  {
   "cell_type": "code",
   "execution_count": null,
   "metadata": {
    "colab": {},
    "colab_type": "code",
    "id": "Fkq5IqS2XNQw"
   },
   "outputs": [],
   "source": [
    "#Building a model\n",
    "model1 = Sequential()"
   ]
  },
  {
   "cell_type": "code",
   "execution_count": null,
   "metadata": {
    "colab": {},
    "colab_type": "code",
    "id": "yhKwapWdX2aW"
   },
   "outputs": [],
   "source": [
    "model1.add(Input(shape=(1,512), dtype='float32'))\n",
    "model1.add(SpatialDropout1D(0.2))\n",
    "model1.add(LSTM(32, dropout=0.2, recurrent_dropout=0.2))\n",
    "model1.add(Dense(1, activation='sigmoid'))\n",
    "\n",
    "optimzer=Adam(learning_rate=1e-5)\n",
    "\n",
    "model1.compile(loss='binary_crossentropy',optimizer=optimzer,metrics=['accuracy'])"
   ]
  },
  {
   "cell_type": "code",
   "execution_count": null,
   "metadata": {
    "colab": {
     "base_uri": "https://localhost:8080/",
     "height": 260
    },
    "colab_type": "code",
    "id": "NfWiqQRYd2m9",
    "outputId": "e9981018-98b8-48bb-da9e-ab5c39d22791"
   },
   "outputs": [
    {
     "name": "stdout",
     "output_type": "stream",
     "text": [
      "Model: \"sequential_1\"\n",
      "_________________________________________________________________\n",
      "Layer (type)                 Output Shape              Param #   \n",
      "=================================================================\n",
      "spatial_dropout1d_1 (Spatial (None, 1, 512)            0         \n",
      "_________________________________________________________________\n",
      "lstm_1 (LSTM)                (None, 64)                147712    \n",
      "_________________________________________________________________\n",
      "dense_1 (Dense)              (None, 1)                 65        \n",
      "=================================================================\n",
      "Total params: 147,777\n",
      "Trainable params: 147,777\n",
      "Non-trainable params: 0\n",
      "_________________________________________________________________\n"
     ]
    }
   ],
   "source": [
    "model1.summary()"
   ]
  },
  {
   "cell_type": "code",
   "execution_count": null,
   "metadata": {
    "colab": {},
    "colab_type": "code",
    "id": "vANpcdZ3fLKo"
   },
   "outputs": [],
   "source": [
    "from time import time\n",
    "import datetime\n",
    "n_epoch = 100"
   ]
  },
  {
   "cell_type": "code",
   "execution_count": null,
   "metadata": {
    "colab": {
     "base_uri": "https://localhost:8080/",
     "height": 1000
    },
    "colab_type": "code",
    "id": "spT9uZH6d89J",
    "outputId": "77705777-bc61-4e10-8297-88c92a5bb4b7"
   },
   "outputs": [
    {
     "name": "stdout",
     "output_type": "stream",
     "text": [
      "Epoch 1/100\n",
      "274/274 [==============================] - 1s 4ms/step - loss: 0.6909 - accuracy: 0.5691\n",
      "Epoch 2/100\n",
      "274/274 [==============================] - 1s 4ms/step - loss: 0.6868 - accuracy: 0.5939\n",
      "Epoch 3/100\n",
      "274/274 [==============================] - 1s 4ms/step - loss: 0.6827 - accuracy: 0.5799\n",
      "Epoch 4/100\n",
      "274/274 [==============================] - 1s 4ms/step - loss: 0.6787 - accuracy: 0.5767\n",
      "Epoch 5/100\n",
      "274/274 [==============================] - 1s 4ms/step - loss: 0.6745 - accuracy: 0.5756\n",
      "Epoch 6/100\n",
      "274/274 [==============================] - 1s 4ms/step - loss: 0.6704 - accuracy: 0.5763\n",
      "Epoch 7/100\n",
      "274/274 [==============================] - 1s 4ms/step - loss: 0.6659 - accuracy: 0.5777\n",
      "Epoch 8/100\n",
      "274/274 [==============================] - 1s 4ms/step - loss: 0.6614 - accuracy: 0.5796\n",
      "Epoch 9/100\n",
      "274/274 [==============================] - 1s 4ms/step - loss: 0.6574 - accuracy: 0.5819\n",
      "Epoch 10/100\n",
      "274/274 [==============================] - 1s 4ms/step - loss: 0.6526 - accuracy: 0.5873\n",
      "Epoch 11/100\n",
      "274/274 [==============================] - 1s 4ms/step - loss: 0.6485 - accuracy: 0.5920\n",
      "Epoch 12/100\n",
      "274/274 [==============================] - 1s 4ms/step - loss: 0.6434 - accuracy: 0.5988\n",
      "Epoch 13/100\n",
      "274/274 [==============================] - 1s 4ms/step - loss: 0.6386 - accuracy: 0.6100\n",
      "Epoch 14/100\n",
      "274/274 [==============================] - 1s 4ms/step - loss: 0.6338 - accuracy: 0.6164\n",
      "Epoch 15/100\n",
      "274/274 [==============================] - 1s 4ms/step - loss: 0.6293 - accuracy: 0.6270\n",
      "Epoch 16/100\n",
      "274/274 [==============================] - 1s 4ms/step - loss: 0.6242 - accuracy: 0.6414\n",
      "Epoch 17/100\n",
      "274/274 [==============================] - 1s 4ms/step - loss: 0.6187 - accuracy: 0.6541\n",
      "Epoch 18/100\n",
      "274/274 [==============================] - 1s 4ms/step - loss: 0.6137 - accuracy: 0.6676\n",
      "Epoch 19/100\n",
      "274/274 [==============================] - 1s 4ms/step - loss: 0.6085 - accuracy: 0.6798\n",
      "Epoch 20/100\n",
      "274/274 [==============================] - 1s 4ms/step - loss: 0.6027 - accuracy: 0.6945\n",
      "Epoch 21/100\n",
      "274/274 [==============================] - 1s 4ms/step - loss: 0.5970 - accuracy: 0.7007\n",
      "Epoch 22/100\n",
      "274/274 [==============================] - 1s 4ms/step - loss: 0.5922 - accuracy: 0.7162\n",
      "Epoch 23/100\n",
      "274/274 [==============================] - 1s 4ms/step - loss: 0.5859 - accuracy: 0.7249\n",
      "Epoch 24/100\n",
      "274/274 [==============================] - 1s 4ms/step - loss: 0.5803 - accuracy: 0.7325\n",
      "Epoch 25/100\n",
      "274/274 [==============================] - 1s 4ms/step - loss: 0.5751 - accuracy: 0.7420\n",
      "Epoch 26/100\n",
      "274/274 [==============================] - 1s 4ms/step - loss: 0.5685 - accuracy: 0.7497\n",
      "Epoch 27/100\n",
      "274/274 [==============================] - 1s 4ms/step - loss: 0.5631 - accuracy: 0.7565\n",
      "Epoch 28/100\n",
      "274/274 [==============================] - 1s 4ms/step - loss: 0.5578 - accuracy: 0.7605\n",
      "Epoch 29/100\n",
      "274/274 [==============================] - 1s 4ms/step - loss: 0.5522 - accuracy: 0.7632\n",
      "Epoch 30/100\n",
      "274/274 [==============================] - 1s 4ms/step - loss: 0.5457 - accuracy: 0.7707\n",
      "Epoch 31/100\n",
      "274/274 [==============================] - 1s 4ms/step - loss: 0.5405 - accuracy: 0.7748\n",
      "Epoch 32/100\n",
      "274/274 [==============================] - 1s 4ms/step - loss: 0.5364 - accuracy: 0.7758\n",
      "Epoch 33/100\n",
      "274/274 [==============================] - 1s 4ms/step - loss: 0.5313 - accuracy: 0.7770\n",
      "Epoch 34/100\n",
      "274/274 [==============================] - 1s 4ms/step - loss: 0.5251 - accuracy: 0.7810\n",
      "Epoch 35/100\n",
      "274/274 [==============================] - 1s 4ms/step - loss: 0.5211 - accuracy: 0.7814\n",
      "Epoch 36/100\n",
      "274/274 [==============================] - 1s 4ms/step - loss: 0.5161 - accuracy: 0.7841\n",
      "Epoch 37/100\n",
      "274/274 [==============================] - 1s 4ms/step - loss: 0.5087 - accuracy: 0.7884\n",
      "Epoch 38/100\n",
      "274/274 [==============================] - 1s 4ms/step - loss: 0.5068 - accuracy: 0.7840\n",
      "Epoch 39/100\n",
      "274/274 [==============================] - 1s 4ms/step - loss: 0.5013 - accuracy: 0.7894\n",
      "Epoch 40/100\n",
      "274/274 [==============================] - 1s 4ms/step - loss: 0.4973 - accuracy: 0.7894\n",
      "Epoch 41/100\n",
      "274/274 [==============================] - 1s 4ms/step - loss: 0.4917 - accuracy: 0.7898\n",
      "Epoch 42/100\n",
      "274/274 [==============================] - 1s 4ms/step - loss: 0.4898 - accuracy: 0.7909\n",
      "Epoch 43/100\n",
      "274/274 [==============================] - 1s 4ms/step - loss: 0.4839 - accuracy: 0.7931\n",
      "Epoch 44/100\n",
      "274/274 [==============================] - 1s 4ms/step - loss: 0.4814 - accuracy: 0.7942\n",
      "Epoch 45/100\n",
      "274/274 [==============================] - 1s 4ms/step - loss: 0.4768 - accuracy: 0.7934\n",
      "Epoch 46/100\n",
      "274/274 [==============================] - 1s 4ms/step - loss: 0.4727 - accuracy: 0.7952\n",
      "Epoch 47/100\n",
      "274/274 [==============================] - 1s 4ms/step - loss: 0.4692 - accuracy: 0.7968\n",
      "Epoch 48/100\n",
      "274/274 [==============================] - 1s 4ms/step - loss: 0.4653 - accuracy: 0.7957\n",
      "Epoch 49/100\n",
      "274/274 [==============================] - 1s 4ms/step - loss: 0.4624 - accuracy: 0.7955\n",
      "Epoch 50/100\n",
      "274/274 [==============================] - 1s 4ms/step - loss: 0.4609 - accuracy: 0.7968\n",
      "Epoch 51/100\n",
      "274/274 [==============================] - 1s 4ms/step - loss: 0.4563 - accuracy: 0.7997\n",
      "Epoch 52/100\n",
      "274/274 [==============================] - 1s 4ms/step - loss: 0.4546 - accuracy: 0.8030\n",
      "Epoch 53/100\n",
      "274/274 [==============================] - 1s 4ms/step - loss: 0.4535 - accuracy: 0.7968\n",
      "Epoch 54/100\n",
      "274/274 [==============================] - 1s 5ms/step - loss: 0.4494 - accuracy: 0.8003\n",
      "Epoch 55/100\n",
      "274/274 [==============================] - 1s 5ms/step - loss: 0.4477 - accuracy: 0.8018\n",
      "Epoch 56/100\n",
      "274/274 [==============================] - 1s 5ms/step - loss: 0.4451 - accuracy: 0.7999\n",
      "Epoch 57/100\n",
      "274/274 [==============================] - 1s 5ms/step - loss: 0.4423 - accuracy: 0.8022\n",
      "Epoch 58/100\n",
      "274/274 [==============================] - 1s 4ms/step - loss: 0.4388 - accuracy: 0.8041\n",
      "Epoch 59/100\n",
      "274/274 [==============================] - 1s 4ms/step - loss: 0.4389 - accuracy: 0.8012\n",
      "Epoch 60/100\n",
      "274/274 [==============================] - 1s 4ms/step - loss: 0.4363 - accuracy: 0.8038\n",
      "Epoch 61/100\n",
      "274/274 [==============================] - 1s 4ms/step - loss: 0.4338 - accuracy: 0.8039\n",
      "Epoch 62/100\n",
      "274/274 [==============================] - 1s 4ms/step - loss: 0.4311 - accuracy: 0.8082\n",
      "Epoch 63/100\n",
      "274/274 [==============================] - 1s 4ms/step - loss: 0.4294 - accuracy: 0.8052\n",
      "Epoch 64/100\n",
      "274/274 [==============================] - 1s 4ms/step - loss: 0.4285 - accuracy: 0.8041\n",
      "Epoch 65/100\n",
      "274/274 [==============================] - 1s 4ms/step - loss: 0.4267 - accuracy: 0.8081\n",
      "Epoch 66/100\n",
      "274/274 [==============================] - 1s 4ms/step - loss: 0.4242 - accuracy: 0.8103\n",
      "Epoch 67/100\n",
      "274/274 [==============================] - 1s 4ms/step - loss: 0.4228 - accuracy: 0.8069\n",
      "Epoch 68/100\n",
      "274/274 [==============================] - 1s 4ms/step - loss: 0.4221 - accuracy: 0.8088\n",
      "Epoch 69/100\n",
      "274/274 [==============================] - 1s 4ms/step - loss: 0.4213 - accuracy: 0.8082\n",
      "Epoch 70/100\n",
      "274/274 [==============================] - 1s 4ms/step - loss: 0.4202 - accuracy: 0.8084\n",
      "Epoch 71/100\n",
      "274/274 [==============================] - 1s 4ms/step - loss: 0.4178 - accuracy: 0.8099\n",
      "Epoch 72/100\n",
      "274/274 [==============================] - 1s 4ms/step - loss: 0.4142 - accuracy: 0.8114\n",
      "Epoch 73/100\n",
      "274/274 [==============================] - 1s 4ms/step - loss: 0.4167 - accuracy: 0.8108\n",
      "Epoch 74/100\n",
      "274/274 [==============================] - 1s 4ms/step - loss: 0.4135 - accuracy: 0.8131\n",
      "Epoch 75/100\n",
      "274/274 [==============================] - 1s 4ms/step - loss: 0.4127 - accuracy: 0.8089\n",
      "Epoch 76/100\n",
      "274/274 [==============================] - 1s 4ms/step - loss: 0.4112 - accuracy: 0.8139\n",
      "Epoch 77/100\n",
      "274/274 [==============================] - 1s 4ms/step - loss: 0.4088 - accuracy: 0.8149\n",
      "Epoch 78/100\n",
      "274/274 [==============================] - 1s 4ms/step - loss: 0.4079 - accuracy: 0.8118\n",
      "Epoch 79/100\n",
      "274/274 [==============================] - 1s 4ms/step - loss: 0.4070 - accuracy: 0.8156\n",
      "Epoch 80/100\n",
      "274/274 [==============================] - 1s 4ms/step - loss: 0.4085 - accuracy: 0.8117\n",
      "Epoch 81/100\n",
      "274/274 [==============================] - 1s 4ms/step - loss: 0.4089 - accuracy: 0.8112\n",
      "Epoch 82/100\n",
      "274/274 [==============================] - 1s 4ms/step - loss: 0.4059 - accuracy: 0.8130\n",
      "Epoch 83/100\n",
      "274/274 [==============================] - 1s 4ms/step - loss: 0.4040 - accuracy: 0.8159\n",
      "Epoch 84/100\n",
      "274/274 [==============================] - 1s 4ms/step - loss: 0.4058 - accuracy: 0.8124\n",
      "Epoch 85/100\n",
      "274/274 [==============================] - 1s 4ms/step - loss: 0.4074 - accuracy: 0.8150\n",
      "Epoch 86/100\n",
      "274/274 [==============================] - 1s 4ms/step - loss: 0.4055 - accuracy: 0.8154\n",
      "Epoch 87/100\n",
      "274/274 [==============================] - 1s 4ms/step - loss: 0.4034 - accuracy: 0.8171\n",
      "Epoch 88/100\n",
      "274/274 [==============================] - 1s 4ms/step - loss: 0.4033 - accuracy: 0.8147\n",
      "Epoch 89/100\n",
      "274/274 [==============================] - 1s 4ms/step - loss: 0.4031 - accuracy: 0.8175\n",
      "Epoch 90/100\n",
      "274/274 [==============================] - 1s 4ms/step - loss: 0.3996 - accuracy: 0.8170\n",
      "Epoch 91/100\n",
      "274/274 [==============================] - 1s 4ms/step - loss: 0.4005 - accuracy: 0.8174\n",
      "Epoch 92/100\n",
      "274/274 [==============================] - 1s 4ms/step - loss: 0.4003 - accuracy: 0.8162\n",
      "Epoch 93/100\n",
      "274/274 [==============================] - 1s 4ms/step - loss: 0.3953 - accuracy: 0.8183\n",
      "Epoch 94/100\n",
      "274/274 [==============================] - 1s 4ms/step - loss: 0.3968 - accuracy: 0.8188\n",
      "Epoch 95/100\n",
      "274/274 [==============================] - 1s 4ms/step - loss: 0.4007 - accuracy: 0.8174\n",
      "Epoch 96/100\n",
      "274/274 [==============================] - 1s 4ms/step - loss: 0.3940 - accuracy: 0.8230\n",
      "Epoch 97/100\n",
      "274/274 [==============================] - 1s 4ms/step - loss: 0.3960 - accuracy: 0.8171\n",
      "Epoch 98/100\n",
      "274/274 [==============================] - 1s 4ms/step - loss: 0.3949 - accuracy: 0.8194\n",
      "Epoch 99/100\n",
      "274/274 [==============================] - 1s 4ms/step - loss: 0.3965 - accuracy: 0.8176\n",
      "Epoch 100/100\n",
      "274/274 [==============================] - 1s 4ms/step - loss: 0.3963 - accuracy: 0.8193\n",
      "Training time finished.\n",
      "100 epochs in 0:01:58.894955\n"
     ]
    }
   ],
   "source": [
    "training_start_time = time()\n",
    "\n",
    "trained = model1.fit(X_train_embed, temp1, batch_size=64, epochs=n_epoch)\n",
    "\n",
    "print(\"Training time finished.\\n{} epochs in {}\".format(n_epoch, datetime.timedelta(seconds=time()-training_start_time)))"
   ]
  },
  {
   "cell_type": "code",
   "execution_count": 49,
   "metadata": {
    "colab": {},
    "colab_type": "code",
    "id": "_nHKZRvUCceT"
   },
   "outputs": [],
   "source": [
    "model2 = Sequential()"
   ]
  },
  {
   "cell_type": "code",
   "execution_count": 50,
   "metadata": {
    "colab": {
     "base_uri": "https://localhost:8080/",
     "height": 401
    },
    "colab_type": "code",
    "id": "Z_OlLMH3EpCZ",
    "outputId": "2e482de5-4583-47e6-badc-0602d09ca287"
   },
   "outputs": [],
   "source": [
    "model2.add(Input(shape=(1,512), dtype='float32'))\n",
    "#model2.add(SpatialDropout1D(0.1))\n",
    "model2.add(Dense(16, activation='sigmoid'))\n",
    "model2.add(LSTM(units=1))\n",
    "\n",
    "\n",
    "optimzer=tf.keras.optimizers.SGD(learning_rate=1.5,momentum = 0.25)\n",
    "\n",
    "model2.compile(loss='binary_crossentropy',optimizer=optimzer,metrics=['accuracy'])"
   ]
  },
  {
   "cell_type": "code",
   "execution_count": null,
   "metadata": {
    "colab": {
     "base_uri": "https://localhost:8080/",
     "height": 225
    },
    "colab_type": "code",
    "id": "LQwJpr-fFfqp",
    "outputId": "4f9b1e00-85a8-48a2-fbc9-dbf9aace6fb8"
   },
   "outputs": [
    {
     "name": "stdout",
     "output_type": "stream",
     "text": [
      "Model: \"sequential_8\"\n",
      "_________________________________________________________________\n",
      "Layer (type)                 Output Shape              Param #   \n",
      "=================================================================\n",
      "dense_7 (Dense)              (None, 1, 16)             8208      \n",
      "_________________________________________________________________\n",
      "lstm_7 (LSTM)                (None, 1)                 72        \n",
      "=================================================================\n",
      "Total params: 8,280\n",
      "Trainable params: 8,280\n",
      "Non-trainable params: 0\n",
      "_________________________________________________________________\n"
     ]
    }
   ],
   "source": [
    "model2.summary()"
   ]
  },
  {
   "cell_type": "code",
   "execution_count": null,
   "metadata": {
    "colab": {
     "base_uri": "https://localhost:8080/",
     "height": 1000
    },
    "colab_type": "code",
    "id": "eb0xN0zcFlAJ",
    "outputId": "47e03221-fcd5-403c-f876-52d7147bacbe"
   },
   "outputs": [
    {
     "name": "stdout",
     "output_type": "stream",
     "text": [
      "Epoch 1/75\n",
      "157/157 [==============================] - 1s 5ms/step - loss: 0.6667 - accuracy: 0.5950 - val_loss: 0.6113 - val_accuracy: 0.7480\n",
      "Epoch 2/75\n",
      "157/157 [==============================] - 0s 3ms/step - loss: 0.5650 - accuracy: 0.7712 - val_loss: 0.5478 - val_accuracy: 0.7205\n",
      "Epoch 3/75\n",
      "157/157 [==============================] - 0s 3ms/step - loss: 0.4600 - accuracy: 0.8222 - val_loss: 0.4332 - val_accuracy: 0.8370\n",
      "Epoch 4/75\n",
      "157/157 [==============================] - 0s 3ms/step - loss: 0.4261 - accuracy: 0.8395 - val_loss: 0.4241 - val_accuracy: 0.8385\n",
      "Epoch 5/75\n",
      "157/157 [==============================] - 0s 3ms/step - loss: 0.4104 - accuracy: 0.8450 - val_loss: 0.4067 - val_accuracy: 0.8505\n",
      "Epoch 6/75\n",
      "157/157 [==============================] - 0s 3ms/step - loss: 0.4016 - accuracy: 0.8541 - val_loss: 0.4011 - val_accuracy: 0.8535\n",
      "Epoch 7/75\n",
      "157/157 [==============================] - 0s 3ms/step - loss: 0.3940 - accuracy: 0.8589 - val_loss: 0.4104 - val_accuracy: 0.8490\n",
      "Epoch 8/75\n",
      "157/157 [==============================] - 0s 3ms/step - loss: 0.3930 - accuracy: 0.8587 - val_loss: 0.5011 - val_accuracy: 0.7550\n",
      "Epoch 9/75\n",
      "157/157 [==============================] - 0s 3ms/step - loss: 0.3872 - accuracy: 0.8616 - val_loss: 0.4044 - val_accuracy: 0.8425\n",
      "Epoch 10/75\n",
      "157/157 [==============================] - 0s 3ms/step - loss: 0.3851 - accuracy: 0.8620 - val_loss: 0.4123 - val_accuracy: 0.8455\n",
      "Epoch 11/75\n",
      "157/157 [==============================] - 0s 3ms/step - loss: 0.3816 - accuracy: 0.8629 - val_loss: 0.4438 - val_accuracy: 0.8300\n",
      "Epoch 12/75\n",
      "157/157 [==============================] - 0s 3ms/step - loss: 0.3838 - accuracy: 0.8629 - val_loss: 0.4154 - val_accuracy: 0.8285\n",
      "Epoch 13/75\n",
      "157/157 [==============================] - 0s 3ms/step - loss: 0.3810 - accuracy: 0.8657 - val_loss: 0.4850 - val_accuracy: 0.8150\n",
      "Epoch 14/75\n",
      "157/157 [==============================] - 0s 3ms/step - loss: 0.3781 - accuracy: 0.8687 - val_loss: 0.4186 - val_accuracy: 0.8245\n",
      "Epoch 15/75\n",
      "157/157 [==============================] - 0s 3ms/step - loss: 0.3786 - accuracy: 0.8662 - val_loss: 0.4033 - val_accuracy: 0.8530\n",
      "Epoch 16/75\n",
      "157/157 [==============================] - 0s 3ms/step - loss: 0.3762 - accuracy: 0.8661 - val_loss: 0.4645 - val_accuracy: 0.8245\n",
      "Epoch 17/75\n",
      "157/157 [==============================] - 0s 3ms/step - loss: 0.3741 - accuracy: 0.8680 - val_loss: 0.4014 - val_accuracy: 0.8525\n",
      "Epoch 18/75\n",
      "157/157 [==============================] - 0s 3ms/step - loss: 0.3742 - accuracy: 0.8697 - val_loss: 0.4233 - val_accuracy: 0.8445\n",
      "Epoch 19/75\n",
      "157/157 [==============================] - 0s 3ms/step - loss: 0.3725 - accuracy: 0.8729 - val_loss: 0.4002 - val_accuracy: 0.8495\n",
      "Epoch 20/75\n",
      "157/157 [==============================] - 0s 3ms/step - loss: 0.3732 - accuracy: 0.8682 - val_loss: 0.4020 - val_accuracy: 0.8500\n",
      "Epoch 21/75\n",
      "157/157 [==============================] - 0s 3ms/step - loss: 0.3736 - accuracy: 0.8697 - val_loss: 0.5108 - val_accuracy: 0.7485\n",
      "Epoch 22/75\n",
      "157/157 [==============================] - 0s 3ms/step - loss: 0.3725 - accuracy: 0.8702 - val_loss: 0.4161 - val_accuracy: 0.8445\n",
      "Epoch 23/75\n",
      "157/157 [==============================] - 0s 3ms/step - loss: 0.3704 - accuracy: 0.8715 - val_loss: 0.4040 - val_accuracy: 0.8525\n",
      "Epoch 24/75\n",
      "157/157 [==============================] - 0s 3ms/step - loss: 0.3706 - accuracy: 0.8705 - val_loss: 0.4027 - val_accuracy: 0.8485\n",
      "Epoch 25/75\n",
      "157/157 [==============================] - 0s 3ms/step - loss: 0.3668 - accuracy: 0.8738 - val_loss: 0.4027 - val_accuracy: 0.8495\n",
      "Epoch 26/75\n",
      "157/157 [==============================] - 0s 3ms/step - loss: 0.3706 - accuracy: 0.8705 - val_loss: 0.4081 - val_accuracy: 0.8395\n",
      "Epoch 27/75\n",
      "157/157 [==============================] - 0s 3ms/step - loss: 0.3687 - accuracy: 0.8743 - val_loss: 0.4308 - val_accuracy: 0.8435\n",
      "Epoch 28/75\n",
      "157/157 [==============================] - 0s 3ms/step - loss: 0.3665 - accuracy: 0.8726 - val_loss: 0.4121 - val_accuracy: 0.8450\n",
      "Epoch 29/75\n",
      "157/157 [==============================] - 0s 3ms/step - loss: 0.3672 - accuracy: 0.8725 - val_loss: 0.4036 - val_accuracy: 0.8525\n",
      "Epoch 30/75\n",
      "157/157 [==============================] - 0s 3ms/step - loss: 0.3676 - accuracy: 0.8727 - val_loss: 0.4510 - val_accuracy: 0.8370\n",
      "Epoch 31/75\n",
      "157/157 [==============================] - 0s 3ms/step - loss: 0.3655 - accuracy: 0.8747 - val_loss: 0.4035 - val_accuracy: 0.8480\n",
      "Epoch 32/75\n",
      "157/157 [==============================] - 0s 3ms/step - loss: 0.3644 - accuracy: 0.8727 - val_loss: 0.4036 - val_accuracy: 0.8475\n",
      "Epoch 33/75\n",
      "157/157 [==============================] - 0s 3ms/step - loss: 0.3641 - accuracy: 0.8771 - val_loss: 0.4371 - val_accuracy: 0.8100\n",
      "Epoch 34/75\n",
      "157/157 [==============================] - 0s 3ms/step - loss: 0.3654 - accuracy: 0.8725 - val_loss: 0.4106 - val_accuracy: 0.8450\n",
      "Epoch 35/75\n",
      "157/157 [==============================] - 0s 3ms/step - loss: 0.3642 - accuracy: 0.8762 - val_loss: 0.4044 - val_accuracy: 0.8435\n",
      "Epoch 36/75\n",
      "157/157 [==============================] - 0s 3ms/step - loss: 0.3620 - accuracy: 0.8754 - val_loss: 0.4157 - val_accuracy: 0.8345\n",
      "Epoch 37/75\n",
      "157/157 [==============================] - 0s 3ms/step - loss: 0.3616 - accuracy: 0.8778 - val_loss: 0.4198 - val_accuracy: 0.8425\n",
      "Epoch 38/75\n",
      "157/157 [==============================] - 0s 3ms/step - loss: 0.3624 - accuracy: 0.8733 - val_loss: 0.4099 - val_accuracy: 0.8450\n",
      "Epoch 39/75\n",
      "157/157 [==============================] - 0s 3ms/step - loss: 0.3620 - accuracy: 0.8766 - val_loss: 0.4219 - val_accuracy: 0.8275\n",
      "Epoch 40/75\n",
      "157/157 [==============================] - 0s 3ms/step - loss: 0.3603 - accuracy: 0.8776 - val_loss: 0.4059 - val_accuracy: 0.8420\n",
      "Epoch 41/75\n",
      "157/157 [==============================] - 0s 3ms/step - loss: 0.3612 - accuracy: 0.8754 - val_loss: 0.4214 - val_accuracy: 0.8435\n",
      "Epoch 42/75\n",
      "157/157 [==============================] - 0s 3ms/step - loss: 0.3621 - accuracy: 0.8777 - val_loss: 0.4135 - val_accuracy: 0.8375\n",
      "Epoch 43/75\n",
      "157/157 [==============================] - 0s 3ms/step - loss: 0.3630 - accuracy: 0.8766 - val_loss: 0.4173 - val_accuracy: 0.8310\n",
      "Epoch 44/75\n",
      "157/157 [==============================] - 0s 3ms/step - loss: 0.3600 - accuracy: 0.8785 - val_loss: 0.4087 - val_accuracy: 0.8455\n",
      "Epoch 45/75\n",
      "157/157 [==============================] - 0s 3ms/step - loss: 0.3587 - accuracy: 0.8776 - val_loss: 0.4672 - val_accuracy: 0.8335\n",
      "Epoch 46/75\n",
      "157/157 [==============================] - 0s 3ms/step - loss: 0.3610 - accuracy: 0.8785 - val_loss: 0.4169 - val_accuracy: 0.8450\n",
      "Epoch 47/75\n",
      "157/157 [==============================] - 0s 3ms/step - loss: 0.3580 - accuracy: 0.8787 - val_loss: 0.4135 - val_accuracy: 0.8425\n",
      "Epoch 48/75\n",
      "157/157 [==============================] - 0s 3ms/step - loss: 0.3590 - accuracy: 0.8786 - val_loss: 0.4796 - val_accuracy: 0.8290\n",
      "Epoch 49/75\n",
      "157/157 [==============================] - 0s 3ms/step - loss: 0.3571 - accuracy: 0.8795 - val_loss: 0.4072 - val_accuracy: 0.8440\n",
      "Epoch 50/75\n",
      "157/157 [==============================] - 0s 3ms/step - loss: 0.3584 - accuracy: 0.8786 - val_loss: 0.4299 - val_accuracy: 0.8490\n",
      "Epoch 51/75\n",
      "157/157 [==============================] - 0s 3ms/step - loss: 0.3576 - accuracy: 0.8782 - val_loss: 0.4123 - val_accuracy: 0.8465\n",
      "Epoch 52/75\n",
      "157/157 [==============================] - 0s 3ms/step - loss: 0.3569 - accuracy: 0.8800 - val_loss: 0.4089 - val_accuracy: 0.8435\n",
      "Epoch 53/75\n",
      "157/157 [==============================] - 0s 3ms/step - loss: 0.3537 - accuracy: 0.8827 - val_loss: 0.4129 - val_accuracy: 0.8400\n",
      "Epoch 54/75\n",
      "157/157 [==============================] - 0s 3ms/step - loss: 0.3567 - accuracy: 0.8800 - val_loss: 0.4074 - val_accuracy: 0.8485\n",
      "Epoch 55/75\n",
      "157/157 [==============================] - 1s 3ms/step - loss: 0.3546 - accuracy: 0.8813 - val_loss: 0.4080 - val_accuracy: 0.8450\n",
      "Epoch 56/75\n",
      "157/157 [==============================] - 1s 4ms/step - loss: 0.3554 - accuracy: 0.8813 - val_loss: 0.4227 - val_accuracy: 0.8255\n",
      "Epoch 57/75\n",
      "157/157 [==============================] - 1s 4ms/step - loss: 0.3533 - accuracy: 0.8814 - val_loss: 0.4339 - val_accuracy: 0.8455\n",
      "Epoch 58/75\n",
      "157/157 [==============================] - 1s 3ms/step - loss: 0.3532 - accuracy: 0.8838 - val_loss: 0.4096 - val_accuracy: 0.8425\n",
      "Epoch 59/75\n",
      "157/157 [==============================] - 1s 3ms/step - loss: 0.3524 - accuracy: 0.8839 - val_loss: 0.4611 - val_accuracy: 0.8350\n",
      "Epoch 60/75\n",
      "157/157 [==============================] - 1s 3ms/step - loss: 0.3534 - accuracy: 0.8822 - val_loss: 0.4096 - val_accuracy: 0.8430\n",
      "Epoch 61/75\n",
      "157/157 [==============================] - 1s 3ms/step - loss: 0.3522 - accuracy: 0.8828 - val_loss: 0.4096 - val_accuracy: 0.8435\n",
      "Epoch 62/75\n",
      "157/157 [==============================] - 1s 3ms/step - loss: 0.3506 - accuracy: 0.8829 - val_loss: 0.4342 - val_accuracy: 0.8415\n",
      "Epoch 63/75\n",
      "157/157 [==============================] - 1s 3ms/step - loss: 0.3529 - accuracy: 0.8839 - val_loss: 0.4253 - val_accuracy: 0.8415\n",
      "Epoch 64/75\n",
      "157/157 [==============================] - 1s 3ms/step - loss: 0.3510 - accuracy: 0.8850 - val_loss: 0.4094 - val_accuracy: 0.8465\n",
      "Epoch 65/75\n",
      "157/157 [==============================] - 0s 3ms/step - loss: 0.3505 - accuracy: 0.8848 - val_loss: 0.4110 - val_accuracy: 0.8410\n",
      "Epoch 66/75\n",
      "157/157 [==============================] - 0s 3ms/step - loss: 0.3502 - accuracy: 0.8864 - val_loss: 0.4552 - val_accuracy: 0.8365\n",
      "Epoch 67/75\n",
      "157/157 [==============================] - 0s 3ms/step - loss: 0.3488 - accuracy: 0.8830 - val_loss: 0.4256 - val_accuracy: 0.8455\n",
      "Epoch 68/75\n",
      "157/157 [==============================] - 0s 3ms/step - loss: 0.3481 - accuracy: 0.8885 - val_loss: 0.4154 - val_accuracy: 0.8390\n",
      "Epoch 69/75\n",
      "157/157 [==============================] - 0s 3ms/step - loss: 0.3472 - accuracy: 0.8857 - val_loss: 0.4092 - val_accuracy: 0.8445\n",
      "Epoch 70/75\n",
      "157/157 [==============================] - 0s 3ms/step - loss: 0.3463 - accuracy: 0.8859 - val_loss: 0.4220 - val_accuracy: 0.8420\n",
      "Epoch 71/75\n",
      "157/157 [==============================] - 0s 3ms/step - loss: 0.3468 - accuracy: 0.8862 - val_loss: 0.4321 - val_accuracy: 0.8435\n",
      "Epoch 72/75\n",
      "157/157 [==============================] - 0s 3ms/step - loss: 0.3466 - accuracy: 0.8887 - val_loss: 0.4275 - val_accuracy: 0.8465\n",
      "Epoch 73/75\n",
      "157/157 [==============================] - 0s 3ms/step - loss: 0.3452 - accuracy: 0.8894 - val_loss: 0.4149 - val_accuracy: 0.8355\n",
      "Epoch 74/75\n",
      "157/157 [==============================] - 0s 3ms/step - loss: 0.3441 - accuracy: 0.8889 - val_loss: 0.4119 - val_accuracy: 0.8455\n",
      "Epoch 75/75\n",
      "157/157 [==============================] - 0s 3ms/step - loss: 0.3438 - accuracy: 0.8866 - val_loss: 0.4126 - val_accuracy: 0.8420\n",
      "Training time finished.\n",
      "75 epochs in 0:00:36.737735\n"
     ]
    }
   ],
   "source": [
    "training_start_time = time()\n",
    "\n",
    "trained = model2.fit(X_train_embed, temp1, batch_size=64, epochs=n_epoch,validation_data=(X_test_embed,temp2))\n",
    "\n",
    "print(\"Training time finished.\\n{} epochs in {}\".format(n_epoch, datetime.timedelta(seconds=time()-training_start_time)))"
   ]
  },
  {
   "cell_type": "code",
   "execution_count": null,
   "metadata": {
    "colab": {
     "base_uri": "https://localhost:8080/",
     "height": 260
    },
    "colab_type": "code",
    "id": "WvLIzMpEcGb5",
    "outputId": "2b0d8c4b-130e-4ae7-8ac9-8ec12fae29dc"
   },
   "outputs": [
    {
     "name": "stdout",
     "output_type": "stream",
     "text": [
      "Model: \"sequential_33\"\n",
      "_________________________________________________________________\n",
      "Layer (type)                 Output Shape              Param #   \n",
      "=================================================================\n",
      "spatial_dropout1d_9 (Spatial (None, 1, 512)            0         \n",
      "_________________________________________________________________\n",
      "dense_64 (Dense)             (None, 1, 16)             8208      \n",
      "_________________________________________________________________\n",
      "gru_2 (GRU)                  (None, 1)                 57        \n",
      "=================================================================\n",
      "Total params: 8,265\n",
      "Trainable params: 8,265\n",
      "Non-trainable params: 0\n",
      "_________________________________________________________________\n"
     ]
    }
   ],
   "source": [
    "model3 = Sequential()\n",
    "\n",
    "model3.add(Input(shape=(1,512), dtype='float32'))\n",
    "model3.add(SpatialDropout1D(0.2))\n",
    "model3.add(Dense(16, activation='sigmoid'))\n",
    "model3.add(GRU(units=1))\n",
    "\n",
    "\n",
    "optimzer=tf.keras.optimizers.SGD(learning_rate=1.5,momentum = 0.75)\n",
    "\n",
    "model3.compile(loss='binary_crossentropy',optimizer=optimzer,metrics=['accuracy'])\n",
    "\n",
    "model3.summary()"
   ]
  },
  {
   "cell_type": "code",
   "execution_count": null,
   "metadata": {
    "colab": {
     "base_uri": "https://localhost:8080/",
     "height": 1000
    },
    "colab_type": "code",
    "id": "cXCxIXrhcaEA",
    "outputId": "f530992c-5cd9-4c00-e620-e428e5918c50"
   },
   "outputs": [
    {
     "name": "stdout",
     "output_type": "stream",
     "text": [
      "Epoch 1/100\n",
      "157/157 [==============================] - 1s 7ms/step - loss: 0.5657 - accuracy: 0.6937 - val_loss: 0.5369 - val_accuracy: 0.7370\n",
      "Epoch 2/100\n",
      "157/157 [==============================] - 1s 4ms/step - loss: 0.3898 - accuracy: 0.8235 - val_loss: 0.3855 - val_accuracy: 0.8250\n",
      "Epoch 3/100\n",
      "157/157 [==============================] - 1s 4ms/step - loss: 0.3703 - accuracy: 0.8334 - val_loss: 0.4491 - val_accuracy: 0.7825\n",
      "Epoch 4/100\n",
      "157/157 [==============================] - 1s 4ms/step - loss: 0.3635 - accuracy: 0.8368 - val_loss: 0.3422 - val_accuracy: 0.8595\n",
      "Epoch 5/100\n",
      "157/157 [==============================] - 1s 4ms/step - loss: 0.3584 - accuracy: 0.8407 - val_loss: 0.3599 - val_accuracy: 0.8400\n",
      "Epoch 6/100\n",
      "157/157 [==============================] - 1s 4ms/step - loss: 0.3522 - accuracy: 0.8396 - val_loss: 0.7004 - val_accuracy: 0.6840\n",
      "Epoch 7/100\n",
      "157/157 [==============================] - 1s 3ms/step - loss: 0.3639 - accuracy: 0.8339 - val_loss: 0.3676 - val_accuracy: 0.8395\n",
      "Epoch 8/100\n",
      "157/157 [==============================] - 1s 4ms/step - loss: 0.3494 - accuracy: 0.8402 - val_loss: 0.3303 - val_accuracy: 0.8555\n",
      "Epoch 9/100\n",
      "157/157 [==============================] - 1s 3ms/step - loss: 0.3434 - accuracy: 0.8431 - val_loss: 0.3316 - val_accuracy: 0.8615\n",
      "Epoch 10/100\n",
      "157/157 [==============================] - 1s 3ms/step - loss: 0.3385 - accuracy: 0.8472 - val_loss: 0.3371 - val_accuracy: 0.8555\n",
      "Epoch 11/100\n",
      "157/157 [==============================] - 1s 3ms/step - loss: 0.3432 - accuracy: 0.8463 - val_loss: 0.3794 - val_accuracy: 0.8270\n",
      "Epoch 12/100\n",
      "157/157 [==============================] - 1s 3ms/step - loss: 0.3390 - accuracy: 0.8442 - val_loss: 0.3627 - val_accuracy: 0.8460\n",
      "Epoch 13/100\n",
      "157/157 [==============================] - 1s 4ms/step - loss: 0.3386 - accuracy: 0.8478 - val_loss: 0.3464 - val_accuracy: 0.8470\n",
      "Epoch 14/100\n",
      "157/157 [==============================] - 1s 3ms/step - loss: 0.3363 - accuracy: 0.8480 - val_loss: 0.3842 - val_accuracy: 0.8190\n",
      "Epoch 15/100\n",
      "157/157 [==============================] - 1s 3ms/step - loss: 0.3395 - accuracy: 0.8490 - val_loss: 0.3360 - val_accuracy: 0.8550\n",
      "Epoch 16/100\n",
      "157/157 [==============================] - 1s 3ms/step - loss: 0.3368 - accuracy: 0.8454 - val_loss: 0.3339 - val_accuracy: 0.8550\n",
      "Epoch 17/100\n",
      "157/157 [==============================] - 1s 3ms/step - loss: 0.3264 - accuracy: 0.8518 - val_loss: 0.3501 - val_accuracy: 0.8415\n",
      "Epoch 18/100\n",
      "157/157 [==============================] - 1s 3ms/step - loss: 0.3351 - accuracy: 0.8463 - val_loss: 0.3310 - val_accuracy: 0.8545\n",
      "Epoch 19/100\n",
      "157/157 [==============================] - 1s 4ms/step - loss: 0.3257 - accuracy: 0.8529 - val_loss: 0.3332 - val_accuracy: 0.8565\n",
      "Epoch 20/100\n",
      "157/157 [==============================] - 1s 4ms/step - loss: 0.3285 - accuracy: 0.8494 - val_loss: 0.3588 - val_accuracy: 0.8365\n",
      "Epoch 21/100\n",
      "157/157 [==============================] - 1s 3ms/step - loss: 0.3154 - accuracy: 0.8568 - val_loss: 0.3309 - val_accuracy: 0.8605\n",
      "Epoch 22/100\n",
      "157/157 [==============================] - 1s 4ms/step - loss: 0.3183 - accuracy: 0.8596 - val_loss: 0.3297 - val_accuracy: 0.8580\n",
      "Epoch 23/100\n",
      "157/157 [==============================] - 1s 3ms/step - loss: 0.3166 - accuracy: 0.8603 - val_loss: 0.3823 - val_accuracy: 0.8310\n",
      "Epoch 24/100\n",
      "157/157 [==============================] - 1s 3ms/step - loss: 0.3122 - accuracy: 0.8565 - val_loss: 0.3479 - val_accuracy: 0.8505\n",
      "Epoch 25/100\n",
      "157/157 [==============================] - 1s 3ms/step - loss: 0.3147 - accuracy: 0.8575 - val_loss: 0.3345 - val_accuracy: 0.8535\n",
      "Epoch 26/100\n",
      "157/157 [==============================] - 1s 3ms/step - loss: 0.3100 - accuracy: 0.8599 - val_loss: 0.3386 - val_accuracy: 0.8530\n",
      "Epoch 27/100\n",
      "157/157 [==============================] - 1s 3ms/step - loss: 0.3047 - accuracy: 0.8635 - val_loss: 0.3520 - val_accuracy: 0.8440\n",
      "Epoch 28/100\n",
      "157/157 [==============================] - 1s 3ms/step - loss: 0.3011 - accuracy: 0.8655 - val_loss: 0.3348 - val_accuracy: 0.8540\n",
      "Epoch 29/100\n",
      "157/157 [==============================] - 1s 3ms/step - loss: 0.3003 - accuracy: 0.8638 - val_loss: 0.3307 - val_accuracy: 0.8555\n",
      "Epoch 30/100\n",
      "157/157 [==============================] - 1s 3ms/step - loss: 0.3023 - accuracy: 0.8624 - val_loss: 0.3332 - val_accuracy: 0.8530\n",
      "Epoch 31/100\n",
      "157/157 [==============================] - 1s 3ms/step - loss: 0.3014 - accuracy: 0.8635 - val_loss: 0.3340 - val_accuracy: 0.8510\n",
      "Epoch 32/100\n",
      "157/157 [==============================] - 1s 3ms/step - loss: 0.2886 - accuracy: 0.8711 - val_loss: 0.3328 - val_accuracy: 0.8550\n",
      "Epoch 33/100\n",
      "157/157 [==============================] - 1s 3ms/step - loss: 0.3005 - accuracy: 0.8627 - val_loss: 0.3605 - val_accuracy: 0.8430\n",
      "Epoch 34/100\n",
      "157/157 [==============================] - 1s 3ms/step - loss: 0.2904 - accuracy: 0.8700 - val_loss: 0.3370 - val_accuracy: 0.8575\n",
      "Epoch 35/100\n",
      "157/157 [==============================] - 1s 4ms/step - loss: 0.2885 - accuracy: 0.8713 - val_loss: 0.3324 - val_accuracy: 0.8550\n",
      "Epoch 36/100\n",
      "157/157 [==============================] - 1s 3ms/step - loss: 0.2890 - accuracy: 0.8704 - val_loss: 0.3430 - val_accuracy: 0.8500\n",
      "Epoch 37/100\n",
      "157/157 [==============================] - 1s 3ms/step - loss: 0.2885 - accuracy: 0.8677 - val_loss: 0.3952 - val_accuracy: 0.8275\n",
      "Epoch 38/100\n",
      "157/157 [==============================] - 1s 3ms/step - loss: 0.2854 - accuracy: 0.8720 - val_loss: 0.3344 - val_accuracy: 0.8550\n",
      "Epoch 39/100\n",
      "157/157 [==============================] - 1s 3ms/step - loss: 0.2814 - accuracy: 0.8731 - val_loss: 0.3737 - val_accuracy: 0.8395\n",
      "Epoch 40/100\n",
      "157/157 [==============================] - 1s 3ms/step - loss: 0.2872 - accuracy: 0.8696 - val_loss: 0.3434 - val_accuracy: 0.8555\n",
      "Epoch 41/100\n",
      "157/157 [==============================] - 1s 3ms/step - loss: 0.2803 - accuracy: 0.8733 - val_loss: 0.3438 - val_accuracy: 0.8525\n",
      "Epoch 42/100\n",
      "157/157 [==============================] - 1s 3ms/step - loss: 0.2845 - accuracy: 0.8731 - val_loss: 0.3368 - val_accuracy: 0.8575\n",
      "Epoch 43/100\n",
      "157/157 [==============================] - 1s 3ms/step - loss: 0.2776 - accuracy: 0.8741 - val_loss: 0.3416 - val_accuracy: 0.8545\n",
      "Epoch 44/100\n",
      "157/157 [==============================] - 1s 3ms/step - loss: 0.2748 - accuracy: 0.8765 - val_loss: 0.3394 - val_accuracy: 0.8575\n",
      "Epoch 45/100\n",
      "157/157 [==============================] - 1s 3ms/step - loss: 0.2766 - accuracy: 0.8783 - val_loss: 0.3446 - val_accuracy: 0.8535\n",
      "Epoch 46/100\n",
      "157/157 [==============================] - 1s 3ms/step - loss: 0.2775 - accuracy: 0.8778 - val_loss: 0.3437 - val_accuracy: 0.8520\n",
      "Epoch 47/100\n",
      "157/157 [==============================] - 1s 3ms/step - loss: 0.2715 - accuracy: 0.8791 - val_loss: 0.3917 - val_accuracy: 0.8245\n",
      "Epoch 48/100\n",
      "157/157 [==============================] - 1s 3ms/step - loss: 0.2745 - accuracy: 0.8710 - val_loss: 0.3349 - val_accuracy: 0.8640\n",
      "Epoch 49/100\n",
      "157/157 [==============================] - 1s 3ms/step - loss: 0.2748 - accuracy: 0.8788 - val_loss: 0.3481 - val_accuracy: 0.8520\n",
      "Epoch 50/100\n",
      "157/157 [==============================] - 1s 3ms/step - loss: 0.2677 - accuracy: 0.8785 - val_loss: 0.3551 - val_accuracy: 0.8510\n",
      "Epoch 51/100\n",
      "157/157 [==============================] - 1s 3ms/step - loss: 0.2720 - accuracy: 0.8775 - val_loss: 0.3650 - val_accuracy: 0.8375\n",
      "Epoch 52/100\n",
      "157/157 [==============================] - 1s 3ms/step - loss: 0.2650 - accuracy: 0.8816 - val_loss: 0.3411 - val_accuracy: 0.8575\n",
      "Epoch 53/100\n",
      "157/157 [==============================] - 1s 3ms/step - loss: 0.2733 - accuracy: 0.8795 - val_loss: 0.3582 - val_accuracy: 0.8450\n",
      "Epoch 54/100\n",
      "157/157 [==============================] - 1s 4ms/step - loss: 0.2637 - accuracy: 0.8815 - val_loss: 0.3585 - val_accuracy: 0.8480\n",
      "Epoch 55/100\n",
      "157/157 [==============================] - 1s 3ms/step - loss: 0.2623 - accuracy: 0.8857 - val_loss: 0.3585 - val_accuracy: 0.8510\n",
      "Epoch 56/100\n",
      "157/157 [==============================] - 1s 3ms/step - loss: 0.2605 - accuracy: 0.8821 - val_loss: 0.3417 - val_accuracy: 0.8575\n",
      "Epoch 57/100\n",
      "157/157 [==============================] - 1s 3ms/step - loss: 0.2600 - accuracy: 0.8833 - val_loss: 0.3613 - val_accuracy: 0.8460\n",
      "Epoch 58/100\n",
      "157/157 [==============================] - 1s 3ms/step - loss: 0.2531 - accuracy: 0.8853 - val_loss: 0.3572 - val_accuracy: 0.8595\n",
      "Epoch 59/100\n",
      "157/157 [==============================] - 1s 3ms/step - loss: 0.2580 - accuracy: 0.8835 - val_loss: 0.3776 - val_accuracy: 0.8395\n",
      "Epoch 60/100\n",
      "157/157 [==============================] - 1s 3ms/step - loss: 0.2643 - accuracy: 0.8850 - val_loss: 0.3658 - val_accuracy: 0.8510\n",
      "Epoch 61/100\n",
      "157/157 [==============================] - 1s 3ms/step - loss: 0.2523 - accuracy: 0.8891 - val_loss: 0.3546 - val_accuracy: 0.8520\n",
      "Epoch 62/100\n",
      "157/157 [==============================] - 1s 4ms/step - loss: 0.2514 - accuracy: 0.8866 - val_loss: 0.3488 - val_accuracy: 0.8530\n",
      "Epoch 63/100\n",
      "157/157 [==============================] - 1s 4ms/step - loss: 0.2517 - accuracy: 0.8882 - val_loss: 0.3721 - val_accuracy: 0.8445\n",
      "Epoch 64/100\n",
      "157/157 [==============================] - 1s 3ms/step - loss: 0.2555 - accuracy: 0.8862 - val_loss: 0.3796 - val_accuracy: 0.8350\n",
      "Epoch 65/100\n",
      "157/157 [==============================] - 1s 3ms/step - loss: 0.2639 - accuracy: 0.8811 - val_loss: 0.3680 - val_accuracy: 0.8445\n",
      "Epoch 66/100\n",
      "157/157 [==============================] - 1s 3ms/step - loss: 0.2561 - accuracy: 0.8863 - val_loss: 0.3573 - val_accuracy: 0.8460\n",
      "Epoch 67/100\n",
      "157/157 [==============================] - 1s 3ms/step - loss: 0.2549 - accuracy: 0.8860 - val_loss: 0.3536 - val_accuracy: 0.8575\n",
      "Epoch 68/100\n",
      "157/157 [==============================] - 1s 3ms/step - loss: 0.2487 - accuracy: 0.8898 - val_loss: 0.3607 - val_accuracy: 0.8530\n",
      "Epoch 69/100\n",
      "157/157 [==============================] - 1s 3ms/step - loss: 0.2467 - accuracy: 0.8917 - val_loss: 0.3492 - val_accuracy: 0.8480\n",
      "Epoch 70/100\n",
      "157/157 [==============================] - 1s 3ms/step - loss: 0.2562 - accuracy: 0.8853 - val_loss: 0.3681 - val_accuracy: 0.8445\n",
      "Epoch 71/100\n",
      "157/157 [==============================] - 1s 3ms/step - loss: 0.2531 - accuracy: 0.8892 - val_loss: 0.3594 - val_accuracy: 0.8505\n",
      "Epoch 72/100\n",
      "157/157 [==============================] - 1s 3ms/step - loss: 0.2520 - accuracy: 0.8885 - val_loss: 0.3575 - val_accuracy: 0.8540\n",
      "Epoch 73/100\n",
      "157/157 [==============================] - 1s 3ms/step - loss: 0.2518 - accuracy: 0.8885 - val_loss: 0.3735 - val_accuracy: 0.8415\n",
      "Epoch 74/100\n",
      "157/157 [==============================] - 1s 3ms/step - loss: 0.2482 - accuracy: 0.8881 - val_loss: 0.3622 - val_accuracy: 0.8470\n",
      "Epoch 75/100\n",
      "157/157 [==============================] - 1s 3ms/step - loss: 0.2522 - accuracy: 0.8872 - val_loss: 0.3647 - val_accuracy: 0.8510\n",
      "Epoch 76/100\n",
      "157/157 [==============================] - 1s 3ms/step - loss: 0.2517 - accuracy: 0.8881 - val_loss: 0.3745 - val_accuracy: 0.8445\n",
      "Epoch 77/100\n",
      "157/157 [==============================] - 1s 3ms/step - loss: 0.2459 - accuracy: 0.8932 - val_loss: 0.3685 - val_accuracy: 0.8465\n",
      "Epoch 78/100\n",
      "157/157 [==============================] - 1s 3ms/step - loss: 0.2502 - accuracy: 0.8927 - val_loss: 0.3770 - val_accuracy: 0.8460\n",
      "Epoch 79/100\n",
      "157/157 [==============================] - 1s 3ms/step - loss: 0.2414 - accuracy: 0.8930 - val_loss: 0.3644 - val_accuracy: 0.8475\n",
      "Epoch 80/100\n",
      "157/157 [==============================] - 1s 3ms/step - loss: 0.2446 - accuracy: 0.8912 - val_loss: 0.3671 - val_accuracy: 0.8530\n",
      "Epoch 81/100\n",
      "157/157 [==============================] - 1s 3ms/step - loss: 0.2466 - accuracy: 0.8920 - val_loss: 0.4346 - val_accuracy: 0.8065\n",
      "Epoch 82/100\n",
      "157/157 [==============================] - 1s 4ms/step - loss: 0.2480 - accuracy: 0.8920 - val_loss: 0.3660 - val_accuracy: 0.8545\n",
      "Epoch 83/100\n",
      "157/157 [==============================] - 1s 3ms/step - loss: 0.2479 - accuracy: 0.8924 - val_loss: 0.3898 - val_accuracy: 0.8360\n",
      "Epoch 84/100\n",
      "157/157 [==============================] - 1s 3ms/step - loss: 0.2438 - accuracy: 0.8901 - val_loss: 0.3838 - val_accuracy: 0.8415\n",
      "Epoch 85/100\n",
      "157/157 [==============================] - 1s 3ms/step - loss: 0.2391 - accuracy: 0.8943 - val_loss: 0.3708 - val_accuracy: 0.8470\n",
      "Epoch 86/100\n",
      "157/157 [==============================] - 1s 3ms/step - loss: 0.2454 - accuracy: 0.8894 - val_loss: 0.3852 - val_accuracy: 0.8355\n",
      "Epoch 87/100\n",
      "157/157 [==============================] - 1s 3ms/step - loss: 0.2463 - accuracy: 0.8916 - val_loss: 0.3983 - val_accuracy: 0.8335\n",
      "Epoch 88/100\n",
      "157/157 [==============================] - 1s 3ms/step - loss: 0.2457 - accuracy: 0.8943 - val_loss: 0.3670 - val_accuracy: 0.8480\n",
      "Epoch 89/100\n",
      "157/157 [==============================] - 1s 3ms/step - loss: 0.2429 - accuracy: 0.8919 - val_loss: 0.3700 - val_accuracy: 0.8465\n",
      "Epoch 90/100\n",
      "157/157 [==============================] - 1s 3ms/step - loss: 0.2439 - accuracy: 0.8928 - val_loss: 0.3632 - val_accuracy: 0.8470\n",
      "Epoch 91/100\n",
      "157/157 [==============================] - 1s 3ms/step - loss: 0.2391 - accuracy: 0.8917 - val_loss: 0.3793 - val_accuracy: 0.8440\n",
      "Epoch 92/100\n",
      "157/157 [==============================] - 1s 3ms/step - loss: 0.2411 - accuracy: 0.8935 - val_loss: 0.3948 - val_accuracy: 0.8335\n",
      "Epoch 93/100\n",
      "157/157 [==============================] - 1s 3ms/step - loss: 0.2405 - accuracy: 0.8957 - val_loss: 0.3868 - val_accuracy: 0.8435\n",
      "Epoch 94/100\n",
      "157/157 [==============================] - 1s 3ms/step - loss: 0.2451 - accuracy: 0.8926 - val_loss: 0.3739 - val_accuracy: 0.8475\n",
      "Epoch 95/100\n",
      "157/157 [==============================] - 1s 3ms/step - loss: 0.2407 - accuracy: 0.8956 - val_loss: 0.3588 - val_accuracy: 0.8520\n",
      "Epoch 96/100\n",
      "157/157 [==============================] - 1s 3ms/step - loss: 0.2394 - accuracy: 0.8944 - val_loss: 0.3803 - val_accuracy: 0.8400\n",
      "Epoch 97/100\n",
      "157/157 [==============================] - 1s 3ms/step - loss: 0.2395 - accuracy: 0.8925 - val_loss: 0.3811 - val_accuracy: 0.8415\n",
      "Epoch 98/100\n",
      "157/157 [==============================] - 1s 3ms/step - loss: 0.2377 - accuracy: 0.8965 - val_loss: 0.3833 - val_accuracy: 0.8455\n",
      "Epoch 99/100\n",
      "157/157 [==============================] - 1s 3ms/step - loss: 0.2343 - accuracy: 0.8959 - val_loss: 0.4068 - val_accuracy: 0.8375\n",
      "Epoch 100/100\n",
      "157/157 [==============================] - 1s 4ms/step - loss: 0.2357 - accuracy: 0.8975 - val_loss: 0.3979 - val_accuracy: 0.8410\n",
      "Training time finished.\n",
      "100 epochs in 0:00:58.230051\n"
     ]
    }
   ],
   "source": [
    "training_start_time = time()\n",
    "\n",
    "trained = model3.fit(X_train_embed, temp1, batch_size=64, epochs=n_epoch,validation_data=(X_test_embed,temp2))\n",
    "\n",
    "print(\"Training time finished.\\n{} epochs in {}\".format(n_epoch, datetime.timedelta(seconds=time()-training_start_time)))"
   ]
  },
  {
   "cell_type": "code",
   "execution_count": null,
   "metadata": {
    "colab": {},
    "colab_type": "code",
    "id": "vWA7pf9W3vH_"
   },
   "outputs": [],
   "source": [
    "y_pred = model3.predict(X_test_embed)"
   ]
  },
  {
   "cell_type": "code",
   "execution_count": null,
   "metadata": {
    "colab": {
     "base_uri": "https://localhost:8080/",
     "height": 34
    },
    "colab_type": "code",
    "id": "OnmdOS3x56gg",
    "outputId": "85fb3f8e-d002-4a08-9d3e-b14f45221b0d"
   },
   "outputs": [
    {
     "data": {
      "text/plain": [
       "2000"
      ]
     },
     "execution_count": 228,
     "metadata": {
      "tags": []
     },
     "output_type": "execute_result"
    }
   ],
   "source": [
    "len(y_pred)"
   ]
  },
  {
   "cell_type": "code",
   "execution_count": null,
   "metadata": {
    "colab": {},
    "colab_type": "code",
    "id": "hgm9Bw_H6ALq"
   },
   "outputs": [],
   "source": [
    "from sklearn.metrics import f1_score\n",
    "from sklearn.metrics import confusion_matrix as cm"
   ]
  },
  {
   "cell_type": "code",
   "execution_count": null,
   "metadata": {
    "colab": {},
    "colab_type": "code",
    "id": "PfcJHr996S2d"
   },
   "outputs": [],
   "source": [
    "for i in range(0,len(y_pred)):\n",
    "    if y_pred[i]>=0.5:\n",
    "        y_pred[i] = 1\n",
    "    else:\n",
    "        y_pred[i] = 0"
   ]
  },
  {
   "cell_type": "code",
   "execution_count": null,
   "metadata": {
    "colab": {
     "base_uri": "https://localhost:8080/",
     "height": 52
    },
    "colab_type": "code",
    "id": "fdBsyTX3WyPF",
    "outputId": "4b491922-1348-4d58-eaf1-5479dd5fdbc6"
   },
   "outputs": [
    {
     "data": {
      "text/plain": [
       "array([[756, 212],\n",
       "       [106, 926]])"
      ]
     },
     "execution_count": 238,
     "metadata": {
      "tags": []
     },
     "output_type": "execute_result"
    }
   ],
   "source": [
    "cm(y_pred,temp2)"
   ]
  },
  {
   "cell_type": "code",
   "execution_count": null,
   "metadata": {
    "colab": {
     "base_uri": "https://localhost:8080/",
     "height": 243
    },
    "colab_type": "code",
    "id": "Wit2L8AuGKlX",
    "outputId": "c9f294a8-3ea7-4345-81cc-ae86a19c743f"
   },
   "outputs": [
    {
     "data": {
      "text/plain": [
       "array([[[1.]],\n",
       "\n",
       "       [[0.]],\n",
       "\n",
       "       [[1.]],\n",
       "\n",
       "       ...,\n",
       "\n",
       "       [[0.]],\n",
       "\n",
       "       [[0.]],\n",
       "\n",
       "       [[0.]]], dtype=float32)"
      ]
     },
     "execution_count": 201,
     "metadata": {
      "tags": []
     },
     "output_type": "execute_result"
    }
   ],
   "source": [
    "y_pred"
   ]
  },
  {
   "cell_type": "code",
   "execution_count": null,
   "metadata": {
    "colab": {},
    "colab_type": "code",
    "id": "1K5g_KBRxZeX"
   },
   "outputs": [],
   "source": [
    "y_pred.to_csv('ypred.csv')"
   ]
  },
  {
   "cell_type": "code",
   "execution_count": null,
   "metadata": {
    "colab": {
     "base_uri": "https://localhost:8080/",
     "height": 34
    },
    "colab_type": "code",
    "id": "FFIzF1Qi6Lkd",
    "outputId": "cb93d623-f180-46ea-9930-9e9a00572ce8"
   },
   "outputs": [
    {
     "data": {
      "text/plain": [
       "0.8534562211981568"
      ]
     },
     "execution_count": 239,
     "metadata": {
      "tags": []
     },
     "output_type": "execute_result"
    }
   ],
   "source": [
    "f1_score(temp2,y_pred)"
   ]
  }
 ],
 "metadata": {
  "colab": {
   "collapsed_sections": [],
   "machine_shape": "hm",
   "name": "Steam.ipynb",
   "provenance": []
  },
  "kernelspec": {
   "display_name": "Python 3",
   "language": "python",
   "name": "python3"
  }
 },
 "nbformat": 4,
 "nbformat_minor": 1
}
